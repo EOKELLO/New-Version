{
  "nbformat": 4,
  "nbformat_minor": 0,
  "metadata": {
    "colab": {
      "name": "2Moringa_Data_Science_Core_W1_Independent_Project_2019_07_Elizabeth_Okello_Python Notebook",
      "version": "0.3.2",
      "provenance": [],
      "collapsed_sections": []
    },
    "kernelspec": {
      "name": "python3",
      "display_name": "Python 3"
    }
  },
  "cells": [
    {
      "cell_type": "code",
      "metadata": {
        "id": "BRU2vCZajm3c",
        "colab_type": "code",
        "colab": {}
      },
      "source": [
        "#import important libraries\n",
        "import pandas as pd\n",
        "import numpy as np\n",
        "import seaborn as sns\n",
        "import matplotlib.pyplot as plt\n",
        "import sklearn\n",
        "from sklearn.model_selection import train_test_split\n",
        "from sklearn.preprocessing import StandardScaler\n",
        "from sklearn.decomposition import PCA\n",
        "from scipy import stats\n",
        "from sklearn.linear_model import LogisticRegression\n",
        "from sklearn.ensemble import RandomForestClassifier\n",
        "from sklearn.tree import DecisionTreeClassifier, export_graphviz\n",
        "from sklearn import metrics"
      ],
      "execution_count": 0,
      "outputs": []
    },
    {
      "cell_type": "markdown",
      "metadata": {
        "id": "Q1-zb98pCw2w",
        "colab_type": "text"
      },
      "source": [
        "**Define** **the** **question**"
      ]
    },
    {
      "cell_type": "code",
      "metadata": {
        "id": "q0Z_nyLHC5bP",
        "colab_type": "code",
        "colab": {}
      },
      "source": [
        "#here we define our research question which is\n",
        "#To figure out how we can predict which individuals are most likely to have or use a bank account"
      ],
      "execution_count": 0,
      "outputs": []
    },
    {
      "cell_type": "markdown",
      "metadata": {
        "id": "tHQv4qTzDc4A",
        "colab_type": "text"
      },
      "source": [
        "**The metric for success**"
      ]
    },
    {
      "cell_type": "code",
      "metadata": {
        "id": "hJVvI6KjDkl8",
        "colab_type": "code",
        "colab": {}
      },
      "source": [
        "#Perform univariate analysis using visualization\n",
        "#perform bivariate analysis using visualization\n",
        "#mutivariate analysis using multiple regression and reduction techniques in this case PCA\n",
        "#Make reccommendation and comments on the findings"
      ],
      "execution_count": 0,
      "outputs": []
    },
    {
      "cell_type": "markdown",
      "metadata": {
        "id": "CYh4FAVkEqXX",
        "colab_type": "text"
      },
      "source": [
        "**The context**"
      ]
    },
    {
      "cell_type": "code",
      "metadata": {
        "id": "nT5S6qFtEykP",
        "colab_type": "code",
        "colab": {}
      },
      "source": [
        "#The countries in this study include uganda,kenya,rwanda,tanzania\n",
        "#the refences are listed below\n",
        "#FinAccess Kenya 2018. \n",
        "#Finscope Rwanda 2016\n",
        "#Finscope Tanzania 2017\n",
        "#Finscope Uganda 2018\n",
        "#Dataset: http://bit.ly/FinancialDataset\n",
        "#Variable Definitions: http://bit.ly/VariableDefinitions"
      ],
      "execution_count": 0,
      "outputs": []
    },
    {
      "cell_type": "markdown",
      "metadata": {
        "id": "_pirBF1KFczl",
        "colab_type": "text"
      },
      "source": [
        "**Experimental design**"
      ]
    },
    {
      "cell_type": "code",
      "metadata": {
        "id": "SM2bffcFFi7x",
        "colab_type": "code",
        "colab": {}
      },
      "source": [
        "#load the dataset\n",
        "#clean the dataset by dealing with outliers, anomalies, and missing data within the dataset if any\n",
        "#Plot univariate and bivariate summaries recording your observations\n",
        "#Implement the solution by performing the respective analysis i.e. reduction, modeling\n",
        "#Challenge your solution by providing insights on how you can make improvements"
      ],
      "execution_count": 0,
      "outputs": []
    },
    {
      "cell_type": "markdown",
      "metadata": {
        "id": "ePYkwOWrGy7-",
        "colab_type": "text"
      },
      "source": [
        "**The appropriateness of the available data to answer the given question**"
      ]
    },
    {
      "cell_type": "code",
      "metadata": {
        "id": "ju7UhHRJHVaf",
        "colab_type": "code",
        "colab": {}
      },
      "source": [
        "#How is the dataset in regard to our research question\n",
        "#Is the Data sufficient\n",
        "#is it relevant \n",
        "#is the dataset reliable\n",
        "#what about the external sources are they helpfull?\n"
      ],
      "execution_count": 0,
      "outputs": []
    },
    {
      "cell_type": "code",
      "metadata": {
        "id": "66ydDVSMj9Xj",
        "colab_type": "code",
        "outputId": "8d6ac760-54d0-46ce-c400-02d0ae02d510",
        "colab": {
          "base_uri": "https://localhost:8080/",
          "height": 377
        }
      },
      "source": [
        "#we now load our dataset\n",
        "url='http://bit.ly/FinancialDataset'\n",
        "df = pd.read_csv(url)\n",
        "df.head()"
      ],
      "execution_count": 6,
      "outputs": [
        {
          "output_type": "execute_result",
          "data": {
            "text/html": [
              "<div>\n",
              "<style scoped>\n",
              "    .dataframe tbody tr th:only-of-type {\n",
              "        vertical-align: middle;\n",
              "    }\n",
              "\n",
              "    .dataframe tbody tr th {\n",
              "        vertical-align: top;\n",
              "    }\n",
              "\n",
              "    .dataframe thead th {\n",
              "        text-align: right;\n",
              "    }\n",
              "</style>\n",
              "<table border=\"1\" class=\"dataframe\">\n",
              "  <thead>\n",
              "    <tr style=\"text-align: right;\">\n",
              "      <th></th>\n",
              "      <th>country</th>\n",
              "      <th>year</th>\n",
              "      <th>uniqueid</th>\n",
              "      <th>Has a Bank account</th>\n",
              "      <th>Type of Location</th>\n",
              "      <th>Cell Phone Access</th>\n",
              "      <th>household_size</th>\n",
              "      <th>Respondent Age</th>\n",
              "      <th>gender_of_respondent</th>\n",
              "      <th>The relathip with head</th>\n",
              "      <th>marital_status</th>\n",
              "      <th>Level of Educuation</th>\n",
              "      <th>Type of Job</th>\n",
              "    </tr>\n",
              "  </thead>\n",
              "  <tbody>\n",
              "    <tr>\n",
              "      <th>0</th>\n",
              "      <td>Kenya</td>\n",
              "      <td>2018</td>\n",
              "      <td>uniqueid_1</td>\n",
              "      <td>Yes</td>\n",
              "      <td>Rural</td>\n",
              "      <td>Yes</td>\n",
              "      <td>3.0</td>\n",
              "      <td>24.0</td>\n",
              "      <td>Female</td>\n",
              "      <td>Spouse</td>\n",
              "      <td>Married/Living together</td>\n",
              "      <td>Secondary education</td>\n",
              "      <td>Self employed</td>\n",
              "    </tr>\n",
              "    <tr>\n",
              "      <th>1</th>\n",
              "      <td>Kenya</td>\n",
              "      <td>2018</td>\n",
              "      <td>uniqueid_2</td>\n",
              "      <td>No</td>\n",
              "      <td>Rural</td>\n",
              "      <td>No</td>\n",
              "      <td>5.0</td>\n",
              "      <td>70.0</td>\n",
              "      <td>Female</td>\n",
              "      <td>Head of Household</td>\n",
              "      <td>Widowed</td>\n",
              "      <td>No formal education</td>\n",
              "      <td>Government Dependent</td>\n",
              "    </tr>\n",
              "    <tr>\n",
              "      <th>2</th>\n",
              "      <td>Kenya</td>\n",
              "      <td>2018</td>\n",
              "      <td>uniqueid_3</td>\n",
              "      <td>Yes</td>\n",
              "      <td>Urban</td>\n",
              "      <td>Yes</td>\n",
              "      <td>5.0</td>\n",
              "      <td>26.0</td>\n",
              "      <td>Male</td>\n",
              "      <td>Other relative</td>\n",
              "      <td>Single/Never Married</td>\n",
              "      <td>Vocational/Specialised training</td>\n",
              "      <td>Self employed</td>\n",
              "    </tr>\n",
              "    <tr>\n",
              "      <th>3</th>\n",
              "      <td>Kenya</td>\n",
              "      <td>2018</td>\n",
              "      <td>uniqueid_4</td>\n",
              "      <td>No</td>\n",
              "      <td>Rural</td>\n",
              "      <td>Yes</td>\n",
              "      <td>5.0</td>\n",
              "      <td>34.0</td>\n",
              "      <td>Female</td>\n",
              "      <td>Head of Household</td>\n",
              "      <td>Married/Living together</td>\n",
              "      <td>Primary education</td>\n",
              "      <td>Formally employed Private</td>\n",
              "    </tr>\n",
              "    <tr>\n",
              "      <th>4</th>\n",
              "      <td>Kenya</td>\n",
              "      <td>2018</td>\n",
              "      <td>uniqueid_5</td>\n",
              "      <td>No</td>\n",
              "      <td>Urban</td>\n",
              "      <td>No</td>\n",
              "      <td>8.0</td>\n",
              "      <td>26.0</td>\n",
              "      <td>Male</td>\n",
              "      <td>Child</td>\n",
              "      <td>Single/Never Married</td>\n",
              "      <td>Primary education</td>\n",
              "      <td>Informally employed</td>\n",
              "    </tr>\n",
              "  </tbody>\n",
              "</table>\n",
              "</div>"
            ],
            "text/plain": [
              "  country  year  ...              Level of Educuation                Type of Job\n",
              "0   Kenya  2018  ...              Secondary education              Self employed\n",
              "1   Kenya  2018  ...              No formal education       Government Dependent\n",
              "2   Kenya  2018  ...  Vocational/Specialised training              Self employed\n",
              "3   Kenya  2018  ...                Primary education  Formally employed Private\n",
              "4   Kenya  2018  ...                Primary education        Informally employed\n",
              "\n",
              "[5 rows x 13 columns]"
            ]
          },
          "metadata": {
            "tags": []
          },
          "execution_count": 6
        }
      ]
    },
    {
      "cell_type": "code",
      "metadata": {
        "id": "1HdFcOlhkI3Y",
        "colab_type": "code",
        "colab": {}
      },
      "source": [
        "#we now remane out dataset columns to make the column name uniform with the informaton captured in the data description\n",
        "df = df.rename(columns={'The relathip with head':'relationship_with_head',\n",
        "                         'Type of Location':'location_type',\n",
        "                         'Cell Phone Access':'cellphone_access',\n",
        "                         'Respondent Age':'age_of_respondent',\n",
        "                         'Level of Educuation':'education_level',\n",
        "                         'Type of Job':'job_type'})\n"
      ],
      "execution_count": 0,
      "outputs": []
    },
    {
      "cell_type": "code",
      "metadata": {
        "id": "Yo3Bgf8vrbkD",
        "colab_type": "code",
        "outputId": "363f7f5c-abdb-455b-c43d-6bea708f484d",
        "colab": {
          "base_uri": "https://localhost:8080/",
          "height": 360
        }
      },
      "source": [
        "df.head()"
      ],
      "execution_count": 8,
      "outputs": [
        {
          "output_type": "execute_result",
          "data": {
            "text/html": [
              "<div>\n",
              "<style scoped>\n",
              "    .dataframe tbody tr th:only-of-type {\n",
              "        vertical-align: middle;\n",
              "    }\n",
              "\n",
              "    .dataframe tbody tr th {\n",
              "        vertical-align: top;\n",
              "    }\n",
              "\n",
              "    .dataframe thead th {\n",
              "        text-align: right;\n",
              "    }\n",
              "</style>\n",
              "<table border=\"1\" class=\"dataframe\">\n",
              "  <thead>\n",
              "    <tr style=\"text-align: right;\">\n",
              "      <th></th>\n",
              "      <th>country</th>\n",
              "      <th>year</th>\n",
              "      <th>uniqueid</th>\n",
              "      <th>Has a Bank account</th>\n",
              "      <th>location_type</th>\n",
              "      <th>cellphone_access</th>\n",
              "      <th>household_size</th>\n",
              "      <th>age_of_respondent</th>\n",
              "      <th>gender_of_respondent</th>\n",
              "      <th>relationship_with_head</th>\n",
              "      <th>marital_status</th>\n",
              "      <th>education_level</th>\n",
              "      <th>job_type</th>\n",
              "    </tr>\n",
              "  </thead>\n",
              "  <tbody>\n",
              "    <tr>\n",
              "      <th>0</th>\n",
              "      <td>Kenya</td>\n",
              "      <td>2018</td>\n",
              "      <td>uniqueid_1</td>\n",
              "      <td>Yes</td>\n",
              "      <td>Rural</td>\n",
              "      <td>Yes</td>\n",
              "      <td>3.0</td>\n",
              "      <td>24.0</td>\n",
              "      <td>Female</td>\n",
              "      <td>Spouse</td>\n",
              "      <td>Married/Living together</td>\n",
              "      <td>Secondary education</td>\n",
              "      <td>Self employed</td>\n",
              "    </tr>\n",
              "    <tr>\n",
              "      <th>1</th>\n",
              "      <td>Kenya</td>\n",
              "      <td>2018</td>\n",
              "      <td>uniqueid_2</td>\n",
              "      <td>No</td>\n",
              "      <td>Rural</td>\n",
              "      <td>No</td>\n",
              "      <td>5.0</td>\n",
              "      <td>70.0</td>\n",
              "      <td>Female</td>\n",
              "      <td>Head of Household</td>\n",
              "      <td>Widowed</td>\n",
              "      <td>No formal education</td>\n",
              "      <td>Government Dependent</td>\n",
              "    </tr>\n",
              "    <tr>\n",
              "      <th>2</th>\n",
              "      <td>Kenya</td>\n",
              "      <td>2018</td>\n",
              "      <td>uniqueid_3</td>\n",
              "      <td>Yes</td>\n",
              "      <td>Urban</td>\n",
              "      <td>Yes</td>\n",
              "      <td>5.0</td>\n",
              "      <td>26.0</td>\n",
              "      <td>Male</td>\n",
              "      <td>Other relative</td>\n",
              "      <td>Single/Never Married</td>\n",
              "      <td>Vocational/Specialised training</td>\n",
              "      <td>Self employed</td>\n",
              "    </tr>\n",
              "    <tr>\n",
              "      <th>3</th>\n",
              "      <td>Kenya</td>\n",
              "      <td>2018</td>\n",
              "      <td>uniqueid_4</td>\n",
              "      <td>No</td>\n",
              "      <td>Rural</td>\n",
              "      <td>Yes</td>\n",
              "      <td>5.0</td>\n",
              "      <td>34.0</td>\n",
              "      <td>Female</td>\n",
              "      <td>Head of Household</td>\n",
              "      <td>Married/Living together</td>\n",
              "      <td>Primary education</td>\n",
              "      <td>Formally employed Private</td>\n",
              "    </tr>\n",
              "    <tr>\n",
              "      <th>4</th>\n",
              "      <td>Kenya</td>\n",
              "      <td>2018</td>\n",
              "      <td>uniqueid_5</td>\n",
              "      <td>No</td>\n",
              "      <td>Urban</td>\n",
              "      <td>No</td>\n",
              "      <td>8.0</td>\n",
              "      <td>26.0</td>\n",
              "      <td>Male</td>\n",
              "      <td>Child</td>\n",
              "      <td>Single/Never Married</td>\n",
              "      <td>Primary education</td>\n",
              "      <td>Informally employed</td>\n",
              "    </tr>\n",
              "  </tbody>\n",
              "</table>\n",
              "</div>"
            ],
            "text/plain": [
              "  country  year  ...                  education_level                   job_type\n",
              "0   Kenya  2018  ...              Secondary education              Self employed\n",
              "1   Kenya  2018  ...              No formal education       Government Dependent\n",
              "2   Kenya  2018  ...  Vocational/Specialised training              Self employed\n",
              "3   Kenya  2018  ...                Primary education  Formally employed Private\n",
              "4   Kenya  2018  ...                Primary education        Informally employed\n",
              "\n",
              "[5 rows x 13 columns]"
            ]
          },
          "metadata": {
            "tags": []
          },
          "execution_count": 8
        }
      ]
    },
    {
      "cell_type": "code",
      "metadata": {
        "id": "D-0VAKa0rpHK",
        "colab_type": "code",
        "outputId": "f0389d52-ba08-4236-e656-cb067e54e92e",
        "colab": {
          "base_uri": "https://localhost:8080/",
          "height": 34
        }
      },
      "source": [
        "#we want to understand our dataset by checking the number of records,missing values and data types\n",
        "df.shape#here we are checking the size of our dataset is the volume sufficient or its very little data to enable us gain useful insights?"
      ],
      "execution_count": 9,
      "outputs": [
        {
          "output_type": "execute_result",
          "data": {
            "text/plain": [
              "(23524, 13)"
            ]
          },
          "metadata": {
            "tags": []
          },
          "execution_count": 9
        }
      ]
    },
    {
      "cell_type": "code",
      "metadata": {
        "id": "SCgxdVZBr2si",
        "colab_type": "code",
        "outputId": "7e08d585-e4cc-4216-ef9c-858e8512a909",
        "colab": {
          "base_uri": "https://localhost:8080/",
          "height": 255
        }
      },
      "source": [
        "#the correct data format is key and we check if our dataset mets this requirement by\n",
        "df.dtypes"
      ],
      "execution_count": 10,
      "outputs": [
        {
          "output_type": "execute_result",
          "data": {
            "text/plain": [
              "country                    object\n",
              "year                        int64\n",
              "uniqueid                   object\n",
              "Has a Bank account         object\n",
              "location_type              object\n",
              "cellphone_access           object\n",
              "household_size            float64\n",
              "age_of_respondent         float64\n",
              "gender_of_respondent       object\n",
              "relationship_with_head     object\n",
              "marital_status             object\n",
              "education_level            object\n",
              "job_type                   object\n",
              "dtype: object"
            ]
          },
          "metadata": {
            "tags": []
          },
          "execution_count": 10
        }
      ]
    },
    {
      "cell_type": "code",
      "metadata": {
        "id": "ZueNp1B9r64y",
        "colab_type": "code",
        "outputId": "9f4cc104-5c0a-4ce7-d1ec-423e9f662c1c",
        "colab": {
          "base_uri": "https://localhost:8080/",
          "height": 255
        }
      },
      "source": [
        "#we establish whether there are missing values using the code below\n",
        "df.isnull().sum()"
      ],
      "execution_count": 11,
      "outputs": [
        {
          "output_type": "execute_result",
          "data": {
            "text/plain": [
              "country                   14\n",
              "year                       0\n",
              "uniqueid                   0\n",
              "Has a Bank account        36\n",
              "location_type             15\n",
              "cellphone_access          11\n",
              "household_size            28\n",
              "age_of_respondent         34\n",
              "gender_of_respondent      34\n",
              "relationship_with_head     4\n",
              "marital_status            32\n",
              "education_level           29\n",
              "job_type                  30\n",
              "dtype: int64"
            ]
          },
          "metadata": {
            "tags": []
          },
          "execution_count": 11
        }
      ]
    },
    {
      "cell_type": "code",
      "metadata": {
        "id": "YqX4a_DisASf",
        "colab_type": "code",
        "outputId": "392a1f10-36a7-4952-b48a-2a4ab1b72919",
        "colab": {
          "base_uri": "https://localhost:8080/",
          "height": 1000
        }
      },
      "source": [
        "#we the proceed to check our missing values by column and what quantity is missing for each variables\n",
        "missing_data=df.isnull()# assign all mising values to a name missing_data\n",
        "for column in missing_data.columns.values.tolist():#we use the for loops to avoid repitition of code for each variable\n",
        "    print(column)\n",
        "    print (missing_data[column].value_counts())\n",
        "    print(\"\")    "
      ],
      "execution_count": 12,
      "outputs": [
        {
          "output_type": "stream",
          "text": [
            "country\n",
            "False    23510\n",
            "True        14\n",
            "Name: country, dtype: int64\n",
            "\n",
            "year\n",
            "False    23524\n",
            "Name: year, dtype: int64\n",
            "\n",
            "uniqueid\n",
            "False    23524\n",
            "Name: uniqueid, dtype: int64\n",
            "\n",
            "Has a Bank account\n",
            "False    23488\n",
            "True        36\n",
            "Name: Has a Bank account, dtype: int64\n",
            "\n",
            "location_type\n",
            "False    23509\n",
            "True        15\n",
            "Name: location_type, dtype: int64\n",
            "\n",
            "cellphone_access\n",
            "False    23513\n",
            "True        11\n",
            "Name: cellphone_access, dtype: int64\n",
            "\n",
            "household_size\n",
            "False    23496\n",
            "True        28\n",
            "Name: household_size, dtype: int64\n",
            "\n",
            "age_of_respondent\n",
            "False    23490\n",
            "True        34\n",
            "Name: age_of_respondent, dtype: int64\n",
            "\n",
            "gender_of_respondent\n",
            "False    23490\n",
            "True        34\n",
            "Name: gender_of_respondent, dtype: int64\n",
            "\n",
            "relationship_with_head\n",
            "False    23520\n",
            "True         4\n",
            "Name: relationship_with_head, dtype: int64\n",
            "\n",
            "marital_status\n",
            "False    23492\n",
            "True        32\n",
            "Name: marital_status, dtype: int64\n",
            "\n",
            "education_level\n",
            "False    23495\n",
            "True        29\n",
            "Name: education_level, dtype: int64\n",
            "\n",
            "job_type\n",
            "False    23494\n",
            "True        30\n",
            "Name: job_type, dtype: int64\n",
            "\n"
          ],
          "name": "stdout"
        }
      ]
    },
    {
      "cell_type": "code",
      "metadata": {
        "id": "q3JMDGTuwHUd",
        "colab_type": "code",
        "colab": {}
      },
      "source": [
        "#we now fill in missing values with the respective modes of each attribute in the columns enlisted\n",
        "categorical_columns = ['country','gender_of_respondent', 'relationship_with_head', 'marital_status','location_type','cellphone_access','education_level','job_type']\n",
        "for column in categorical_columns:# we do this to avoid repiting the same procedure for each column.\n",
        "  df[column] = df[column].fillna(df[column].mode().iloc[0])"
      ],
      "execution_count": 0,
      "outputs": []
    },
    {
      "cell_type": "code",
      "metadata": {
        "id": "cHOM7EvgzUvj",
        "colab_type": "code",
        "colab": {}
      },
      "source": [
        "#we replace NaN value with the most common house_hold size\n",
        "df['household_size'] = df['household_size'].fillna(df['household_size'].mode().iloc[0])"
      ],
      "execution_count": 0,
      "outputs": []
    },
    {
      "cell_type": "code",
      "metadata": {
        "id": "vCQ7Q_x-0lqS",
        "colab_type": "code",
        "colab": {}
      },
      "source": [
        "#find the mode in the column age_of_respondent and use it to replace the nan values.\n",
        "df['age_of_respondent'] = df['age_of_respondent'].fillna(df['age_of_respondent'].mode().iloc[0])"
      ],
      "execution_count": 0,
      "outputs": []
    },
    {
      "cell_type": "code",
      "metadata": {
        "id": "b9Hnxf18zpKU",
        "colab_type": "code",
        "colab": {}
      },
      "source": [
        "#there is an anomaly in the education level\n",
        "df['education_level'].unique()\n",
        "df['education_level']=df['education_level']"
      ],
      "execution_count": 0,
      "outputs": []
    },
    {
      "cell_type": "code",
      "metadata": {
        "id": "y7OY3GmSyHRm",
        "colab_type": "code",
        "colab": {}
      },
      "source": [
        "#we replace NaN value with the most frequent value for Has a Bank account\n",
        "df['Has a Bank account'] = df['Has a Bank account'].fillna(df['Has a Bank account'].mode().iloc[0])"
      ],
      "execution_count": 0,
      "outputs": []
    },
    {
      "cell_type": "code",
      "metadata": {
        "id": "vVjwywbF2xTV",
        "colab_type": "code",
        "outputId": "de46f356-ffbf-4e6a-d60c-50228f3f76a4",
        "colab": {
          "base_uri": "https://localhost:8080/",
          "height": 255
        }
      },
      "source": [
        "#check whether we successfully treated the missing values\n",
        "df.isnull().sum()"
      ],
      "execution_count": 18,
      "outputs": [
        {
          "output_type": "execute_result",
          "data": {
            "text/plain": [
              "country                   0\n",
              "year                      0\n",
              "uniqueid                  0\n",
              "Has a Bank account        0\n",
              "location_type             0\n",
              "cellphone_access          0\n",
              "household_size            0\n",
              "age_of_respondent         0\n",
              "gender_of_respondent      0\n",
              "relationship_with_head    0\n",
              "marital_status            0\n",
              "education_level           0\n",
              "job_type                  0\n",
              "dtype: int64"
            ]
          },
          "metadata": {
            "tags": []
          },
          "execution_count": 18
        }
      ]
    },
    {
      "cell_type": "code",
      "metadata": {
        "id": "6roCLcsmTtuN",
        "colab_type": "code",
        "outputId": "a974e939-a2bc-4a6d-baa4-f87548b22716",
        "colab": {
          "base_uri": "https://localhost:8080/",
          "height": 255
        }
      },
      "source": [
        "#we check whether our variable data types are as expected\n",
        "df.dtypes"
      ],
      "execution_count": 19,
      "outputs": [
        {
          "output_type": "execute_result",
          "data": {
            "text/plain": [
              "country                    object\n",
              "year                        int64\n",
              "uniqueid                   object\n",
              "Has a Bank account         object\n",
              "location_type              object\n",
              "cellphone_access           object\n",
              "household_size            float64\n",
              "age_of_respondent         float64\n",
              "gender_of_respondent       object\n",
              "relationship_with_head     object\n",
              "marital_status             object\n",
              "education_level            object\n",
              "job_type                   object\n",
              "dtype: object"
            ]
          },
          "metadata": {
            "tags": []
          },
          "execution_count": 19
        }
      ]
    },
    {
      "cell_type": "code",
      "metadata": {
        "id": "d6VaqoPlUGXl",
        "colab_type": "code",
        "colab": {}
      },
      "source": [
        "#all our ariable data types are fine except for house hold size so to correct this we do the conversion\n",
        "df['household_size']=df['household_size'].astype(\"float\")"
      ],
      "execution_count": 0,
      "outputs": []
    },
    {
      "cell_type": "code",
      "metadata": {
        "id": "OHBIdv-MUtdT",
        "colab_type": "code",
        "outputId": "eb1f437f-02d5-41dd-ab98-f8b2748a091d",
        "colab": {
          "base_uri": "https://localhost:8080/",
          "height": 255
        }
      },
      "source": [
        "#we check if this is converted\n",
        "df.dtypes"
      ],
      "execution_count": 21,
      "outputs": [
        {
          "output_type": "execute_result",
          "data": {
            "text/plain": [
              "country                    object\n",
              "year                        int64\n",
              "uniqueid                   object\n",
              "Has a Bank account         object\n",
              "location_type              object\n",
              "cellphone_access           object\n",
              "household_size            float64\n",
              "age_of_respondent         float64\n",
              "gender_of_respondent       object\n",
              "relationship_with_head     object\n",
              "marital_status             object\n",
              "education_level            object\n",
              "job_type                   object\n",
              "dtype: object"
            ]
          },
          "metadata": {
            "tags": []
          },
          "execution_count": 21
        }
      ]
    },
    {
      "cell_type": "code",
      "metadata": {
        "id": "MHJoBWn7U1Pz",
        "colab_type": "code",
        "colab": {}
      },
      "source": [
        "#we now have all missing values treated, variable data types in the correct format"
      ],
      "execution_count": 0,
      "outputs": []
    },
    {
      "cell_type": "code",
      "metadata": {
        "id": "NcNN8RDBcnQj",
        "colab_type": "code",
        "colab": {}
      },
      "source": [
        "#we delete the columns we may not need like the uniqueid,year\n",
        "df=df.drop(['uniqueid','year'],axis=1)\n"
      ],
      "execution_count": 0,
      "outputs": []
    },
    {
      "cell_type": "code",
      "metadata": {
        "id": "ipoNKgTgcnMy",
        "colab_type": "code",
        "outputId": "44d27294-564c-4b9a-fb60-a1931345a6c1",
        "colab": {
          "base_uri": "https://localhost:8080/",
          "height": 199
        }
      },
      "source": [
        "df.head(2)"
      ],
      "execution_count": 24,
      "outputs": [
        {
          "output_type": "execute_result",
          "data": {
            "text/html": [
              "<div>\n",
              "<style scoped>\n",
              "    .dataframe tbody tr th:only-of-type {\n",
              "        vertical-align: middle;\n",
              "    }\n",
              "\n",
              "    .dataframe tbody tr th {\n",
              "        vertical-align: top;\n",
              "    }\n",
              "\n",
              "    .dataframe thead th {\n",
              "        text-align: right;\n",
              "    }\n",
              "</style>\n",
              "<table border=\"1\" class=\"dataframe\">\n",
              "  <thead>\n",
              "    <tr style=\"text-align: right;\">\n",
              "      <th></th>\n",
              "      <th>country</th>\n",
              "      <th>Has a Bank account</th>\n",
              "      <th>location_type</th>\n",
              "      <th>cellphone_access</th>\n",
              "      <th>household_size</th>\n",
              "      <th>age_of_respondent</th>\n",
              "      <th>gender_of_respondent</th>\n",
              "      <th>relationship_with_head</th>\n",
              "      <th>marital_status</th>\n",
              "      <th>education_level</th>\n",
              "      <th>job_type</th>\n",
              "    </tr>\n",
              "  </thead>\n",
              "  <tbody>\n",
              "    <tr>\n",
              "      <th>0</th>\n",
              "      <td>Kenya</td>\n",
              "      <td>Yes</td>\n",
              "      <td>Rural</td>\n",
              "      <td>Yes</td>\n",
              "      <td>3.0</td>\n",
              "      <td>24.0</td>\n",
              "      <td>Female</td>\n",
              "      <td>Spouse</td>\n",
              "      <td>Married/Living together</td>\n",
              "      <td>Secondary education</td>\n",
              "      <td>Self employed</td>\n",
              "    </tr>\n",
              "    <tr>\n",
              "      <th>1</th>\n",
              "      <td>Kenya</td>\n",
              "      <td>No</td>\n",
              "      <td>Rural</td>\n",
              "      <td>No</td>\n",
              "      <td>5.0</td>\n",
              "      <td>70.0</td>\n",
              "      <td>Female</td>\n",
              "      <td>Head of Household</td>\n",
              "      <td>Widowed</td>\n",
              "      <td>No formal education</td>\n",
              "      <td>Government Dependent</td>\n",
              "    </tr>\n",
              "  </tbody>\n",
              "</table>\n",
              "</div>"
            ],
            "text/plain": [
              "  country Has a Bank account  ...      education_level              job_type\n",
              "0   Kenya                Yes  ...  Secondary education         Self employed\n",
              "1   Kenya                 No  ...  No formal education  Government Dependent\n",
              "\n",
              "[2 rows x 11 columns]"
            ]
          },
          "metadata": {
            "tags": []
          },
          "execution_count": 24
        }
      ]
    },
    {
      "cell_type": "markdown",
      "metadata": {
        "id": "eTcI8fbesErA",
        "colab_type": "text"
      },
      "source": [
        "**UNIVARIATE** **ANALYSIS**"
      ]
    },
    {
      "cell_type": "code",
      "metadata": {
        "id": "fRK0ZR--yRTR",
        "colab_type": "code",
        "colab": {}
      },
      "source": [
        "#we perform a univariate analysis which majorly highlghts the distribution of data variables. "
      ],
      "execution_count": 0,
      "outputs": []
    },
    {
      "cell_type": "code",
      "metadata": {
        "id": "ShqDQI1BoheM",
        "colab_type": "code",
        "colab": {
          "base_uri": "https://localhost:8080/",
          "height": 286
        },
        "outputId": "a6b70959-dff6-4d3b-d884-4aa89b1093bd"
      },
      "source": [
        "df['age_of_respondent'].hist()\n",
        "#in the below histogram we observe some positive skewness.\n",
        "#we can say that those aged between 20 and 50 account for most of the respondents by age."
      ],
      "execution_count": 26,
      "outputs": [
        {
          "output_type": "execute_result",
          "data": {
            "text/plain": [
              "<matplotlib.axes._subplots.AxesSubplot at 0x7f49efabb0f0>"
            ]
          },
          "metadata": {
            "tags": []
          },
          "execution_count": 26
        },
        {
          "output_type": "display_data",
          "data": {
            "image/png": "[encoded data removed]",
            "text/plain": [
              "<Figure size 432x288 with 1 Axes>"
            ]
          },
          "metadata": {
            "tags": []
          }
        }
      ]
    },
    {
      "cell_type": "code",
      "metadata": {
        "id": "mHNRPLoiopfN",
        "colab_type": "code",
        "colab": {
          "base_uri": "https://localhost:8080/",
          "height": 170
        },
        "outputId": "5d9ab33f-bc45-4425-bc6c-7c04c71a188c"
      },
      "source": [
        "#getting the descriptive statistics\n",
        "df['age_of_respondent'].describe()"
      ],
      "execution_count": 27,
      "outputs": [
        {
          "output_type": "execute_result",
          "data": {
            "text/plain": [
              "count    23524.000000\n",
              "mean        38.791575\n",
              "std         16.511441\n",
              "min         16.000000\n",
              "25%         26.000000\n",
              "50%         35.000000\n",
              "75%         49.000000\n",
              "max        100.000000\n",
              "Name: age_of_respondent, dtype: float64"
            ]
          },
          "metadata": {
            "tags": []
          },
          "execution_count": 27
        }
      ]
    },
    {
      "cell_type": "code",
      "metadata": {
        "id": "F4wdHHv3q3KS",
        "colab_type": "code",
        "colab": {}
      },
      "source": [
        "#from the above statistics we can infer that since the mean and the median(50%quartile) are slightly far from each other there could be \n",
        "#a presence of relatively many outliers"
      ],
      "execution_count": 0,
      "outputs": []
    },
    {
      "cell_type": "code",
      "metadata": {
        "id": "xhgZux25taXT",
        "colab_type": "code",
        "colab": {
          "base_uri": "https://localhost:8080/",
          "height": 301
        },
        "outputId": "0b5a0554-e7cc-404f-e871-8f20d876288c"
      },
      "source": [
        "#we visualize to check if truely there are outliers using the box plot and yes there are outliers!as in the box plot below.\n",
        "sns.boxplot(df['age_of_respondent'],showmeans=True)"
      ],
      "execution_count": 29,
      "outputs": [
        {
          "output_type": "execute_result",
          "data": {
            "text/plain": [
              "<matplotlib.axes._subplots.AxesSubplot at 0x7f49ed20f390>"
            ]
          },
          "metadata": {
            "tags": []
          },
          "execution_count": 29
        },
        {
          "output_type": "display_data",
          "data": {
            "image/png": "[encoded data removed]",
            "text/plain": [
              "<Figure size 432x288 with 1 Axes>"
            ]
          },
          "metadata": {
            "tags": []
          }
        }
      ]
    },
    {
      "cell_type": "code",
      "metadata": {
        "id": "Bcl_YrC1f6HX",
        "colab_type": "code",
        "outputId": "52af503d-ed17-4904-d844-ee9b0323ed1d",
        "colab": {
          "base_uri": "https://localhost:8080/",
          "height": 170
        }
      },
      "source": [
        "#we proceed to perform a univariate analysis of the household_size\n",
        "df['household_size'].describe()"
      ],
      "execution_count": 30,
      "outputs": [
        {
          "output_type": "execute_result",
          "data": {
            "text/plain": [
              "count    23524.000000\n",
              "mean         3.679816\n",
              "std          2.279314\n",
              "min          0.000000\n",
              "25%          2.000000\n",
              "50%          3.000000\n",
              "75%          5.000000\n",
              "max         21.000000\n",
              "Name: household_size, dtype: float64"
            ]
          },
          "metadata": {
            "tags": []
          },
          "execution_count": 30
        }
      ]
    },
    {
      "cell_type": "code",
      "metadata": {
        "id": "dQnXK8epo5Ow",
        "colab_type": "code",
        "colab": {
          "base_uri": "https://localhost:8080/",
          "height": 286
        },
        "outputId": "5f27bb76-b809-4b6c-bfbc-1272bed42ec1"
      },
      "source": [
        "df['household_size'].hist()\n",
        "#in the histogram below we observe positive skewness\n",
        "#respondents of household_size 5 and below account for most of the respondents going by household size"
      ],
      "execution_count": 31,
      "outputs": [
        {
          "output_type": "execute_result",
          "data": {
            "text/plain": [
              "<matplotlib.axes._subplots.AxesSubplot at 0x7f49ed1f0f60>"
            ]
          },
          "metadata": {
            "tags": []
          },
          "execution_count": 31
        },
        {
          "output_type": "display_data",
          "data": {
            "image/png": "[encoded data removed]",
            "text/plain": [
              "<Figure size 432x288 with 1 Axes>"
            ]
          },
          "metadata": {
            "tags": []
          }
        }
      ]
    },
    {
      "cell_type": "code",
      "metadata": {
        "id": "w0ip3azoS3C7",
        "colab_type": "code",
        "outputId": "49cc8c89-63fc-47e1-9e0c-28318a42ac59",
        "colab": {
          "base_uri": "https://localhost:8080/",
          "height": 301
        }
      },
      "source": [
        "#we see that the diference between the mean and the median is small indicating the presence of outliers thouhg not too many\n",
        "#this comes out clearly given the visualization below\n",
        "sns.boxplot(df['household_size'],showmeans=True)"
      ],
      "execution_count": 32,
      "outputs": [
        {
          "output_type": "execute_result",
          "data": {
            "text/plain": [
              "<matplotlib.axes._subplots.AxesSubplot at 0x7f49efa5e8d0>"
            ]
          },
          "metadata": {
            "tags": []
          },
          "execution_count": 32
        },
        {
          "output_type": "display_data",
          "data": {
            "image/png": "[encoded data removed]",
            "text/plain": [
              "<Figure size 432x288 with 1 Axes>"
            ]
          },
          "metadata": {
            "tags": []
          }
        }
      ]
    },
    {
      "cell_type": "code",
      "metadata": {
        "id": "bLZDQ-wMWSCd",
        "colab_type": "code",
        "outputId": "0c6859f6-6465-4ce6-bfcd-748f42d9e723",
        "colab": {
          "base_uri": "https://localhost:8080/",
          "height": 51
        }
      },
      "source": [
        "#we check for distinct values in the column\n",
        "df['household_size'].unique()"
      ],
      "execution_count": 33,
      "outputs": [
        {
          "output_type": "execute_result",
          "data": {
            "text/plain": [
              "array([ 3.,  5.,  8.,  7.,  1.,  6.,  4., 10.,  2., 11.,  9., 12., 16.,\n",
              "       15., 13., 14., 21.,  0., 18., 17., 20.])"
            ]
          },
          "metadata": {
            "tags": []
          },
          "execution_count": 33
        }
      ]
    },
    {
      "cell_type": "code",
      "metadata": {
        "id": "bcB2ogv4WR3n",
        "colab_type": "code",
        "outputId": "6f09d6e5-4653-4fda-9c15-2edd25266cc2",
        "colab": {
          "base_uri": "https://localhost:8080/",
          "height": 296
        }
      },
      "source": [
        "#we still see that the trend holds ie household_size of less than 5 account for most of the respondents in the survey.\n",
        "household_size = df['household_size']\n",
        "\n",
        "plt.hist(household_size, bins=5, histtype='bar', rwidth=0.9, color='maroon')\n",
        "plt.xlabel('household_size')\n",
        "plt.ylabel('frequency')\n",
        "plt.title('Histogram of household_size')\n",
        "plt.show()"
      ],
      "execution_count": 34,
      "outputs": [
        {
          "output_type": "display_data",
          "data": {
            "image/png": "[encoded data removed]",
            "text/plain": [
              "<Figure size 432x288 with 1 Axes>"
            ]
          },
          "metadata": {
            "tags": []
          }
        }
      ]
    },
    {
      "cell_type": "code",
      "metadata": {
        "id": "tbFNnASv8Ksy",
        "colab_type": "code",
        "colab": {
          "base_uri": "https://localhost:8080/",
          "height": 486
        },
        "outputId": "a644ed73-21a9-4992-a7f9-7fa7d94dc8cd"
      },
      "source": [
        "#we now use a bargraph since the attributes are categorical in nature.\n",
        "#from the below plot we see that in regard to gender majority of the respondents were women at a percentage of 59.06%.\n",
        "#we could attribute this to the fact that since it was a household survey more females were found at home compared to males\n",
        "#not necessarily that it could point to more females holding accounts than men.but it could be an interesting variable to investigate\n",
        "#but this helps us to understand that of the respondents by gender women accounted for 59.06%\n",
        "ax = df['gender_of_respondent'].value_counts().plot(kind='bar', figsize=(10,7),\n",
        "                                        color=\"indigo\", fontsize=13);\n",
        "ax.set_alpha(0.8)\n",
        "ax.set_title(\"gender of respondents\", fontsize=18)\n",
        "ax.set_ylabel(\"frequency\", fontsize=18);\n",
        "ax.set_yticks([0, 5, 10, 15, 20,25, 30, 35, 40])\n",
        "\n",
        "# create a list to collect the plt.patches data\n",
        "totals = []\n",
        "\n",
        "# find the values and append to list\n",
        "for i in ax.patches:\n",
        "    totals.append(i.get_height())\n",
        "\n",
        "# set individual bar lables using above list\n",
        "total = sum(totals)\n",
        "\n",
        "# set individual bar lables using above list\n",
        "for i in ax.patches:\n",
        "    # get_x pulls left or right; get_height pushes up or down\n",
        "    ax.text(i.get_x()-.03, i.get_height()+.5, \\\n",
        "            str(round((i.get_height()/total)*100, 2))+'%', fontsize=15,\n",
        "                color='dimgrey')"
      ],
      "execution_count": 35,
      "outputs": [
        {
          "output_type": "display_data",
          "data": {
            "image/png": "[encoded data removed]",
            "text/plain": [
              "<Figure size 720x504 with 1 Axes>"
            ]
          },
          "metadata": {
            "tags": []
          }
        }
      ]
    },
    {
      "cell_type": "code",
      "metadata": {
        "id": "m6Bg8tLe9oxj",
        "colab_type": "code",
        "colab": {
          "base_uri": "https://localhost:8080/",
          "height": 478
        },
        "outputId": "b48dbae8-4424-4e0b-bc25-dc9ba1ee6a6e"
      },
      "source": [
        "#from the below grapg we see that most o the respondents were drawn from rural areas and account for 61% of the respodents by\n",
        "#location.typically banks are widespread across the countries and location of an individual maynot necessarily be a strong pointer to\n",
        "#an individual having an account or not.  may thereore not necessarily include it in my model but it paints a picture of the distribution \n",
        "#of respondents by location type\n",
        "ax = df['location_type'].value_counts().plot(kind='bar', figsize=(10,7),\n",
        "                                        color=\"green\", fontsize=13);\n",
        "ax.set_alpha(0.8)\n",
        "ax.set_title(\"location_type\", fontsize=18)\n",
        "ax.set_ylabel(\"frequency\", fontsize=18);\n",
        "ax.set_yticks([0, 5, 10, 15, 20])\n",
        "\n",
        "# create a list to collect the plt.patches data\n",
        "totals = []\n",
        "\n",
        "# find the values and append to list\n",
        "for i in ax.patches:\n",
        "    totals.append(i.get_height())\n",
        "\n",
        "# set individual bar lables using above list\n",
        "total = sum(totals)\n",
        "\n",
        "# set individual bar lables using above list\n",
        "for i in ax.patches:\n",
        "    # get_x pulls left or right; get_height pushes up or down\n",
        "    ax.text(i.get_x()-.03, i.get_height()+.5, \\\n",
        "            str(round((i.get_height()/total)*100, 2))+'%', fontsize=15,\n",
        "                color='dimgrey')"
      ],
      "execution_count": 36,
      "outputs": [
        {
          "output_type": "display_data",
          "data": {
            "image/png": "[encoded data removed]",
            "text/plain": [
              "<Figure size 720x504 with 1 Axes>"
            ]
          },
          "metadata": {
            "tags": []
          }
        }
      ]
    },
    {
      "cell_type": "code",
      "metadata": {
        "id": "D8N_RkCB-Abp",
        "colab_type": "code",
        "colab": {
          "base_uri": "https://localhost:8080/",
          "height": 461
        },
        "outputId": "c9a40159-1078-437e-faf8-9c4abff544b6"
      },
      "source": [
        "#fom the plots below 74.22% of the respondents have access to cell phones.\n",
        "#with the development of ict this looks an interesting variable to include in my model\n",
        "#growth of mobile money across the countries included in the study add strength to this variable as an interesting one to \n",
        "#consider in the model.\n",
        "ax = df['cellphone_access'].value_counts().plot(kind='bar', figsize=(10,7),\n",
        "                                        color=\"green\", fontsize=13);\n",
        "ax.set_alpha(0.8)\n",
        "ax.set_title(\"cellphone_access\", fontsize=18)\n",
        "ax.set_ylabel(\"frequency\", fontsize=18);\n",
        "ax.set_yticks([0, 5, 10, 15, 20])\n",
        "\n",
        "# create a list to collect the plt.patches data\n",
        "totals = []\n",
        "\n",
        "# find the values and append to list\n",
        "for i in ax.patches:\n",
        "    totals.append(i.get_height())\n",
        "\n",
        "# set individual bar lables using above list\n",
        "total = sum(totals)\n",
        "\n",
        "# set individual bar lables using above list\n",
        "for i in ax.patches:\n",
        "    # get_x pulls left or right; get_height pushes up or down\n",
        "    ax.text(i.get_x()-.03, i.get_height()+.5, \\\n",
        "            str(round((i.get_height()/total)*100, 2))+'%', fontsize=15,\n",
        "                color='dimgrey')"
      ],
      "execution_count": 37,
      "outputs": [
        {
          "output_type": "display_data",
          "data": {
            "image/png": "[encoded data removed]",
            "text/plain": [
              "<Figure size 720x504 with 1 Axes>"
            ]
          },
          "metadata": {
            "tags": []
          }
        }
      ]
    },
    {
      "cell_type": "code",
      "metadata": {
        "id": "l97BOKt6-AZd",
        "colab_type": "code",
        "colab": {
          "base_uri": "https://localhost:8080/",
          "height": 592
        },
        "outputId": "3d8740a3-f02a-480f-bd9b-848b9e6c3add"
      },
      "source": [
        "#from the plots those married accounted for 45.79% of the respondents by marital status.\n",
        "#other groups in this category have also sufficiently contributed to this survey\n",
        "#its an interesting factoe and on the groung it clearly is a  contributing factor to having or not having an account\n",
        "#\n",
        "ax = df['marital_status'].value_counts().plot(kind='bar', figsize=(10,7),\n",
        "                                        color=\"blue\", fontsize=13);\n",
        "ax.set_alpha(0.8)\n",
        "ax.set_title(\"marital status\", fontsize=18)\n",
        "ax.set_ylabel(\"frequency\", fontsize=18);\n",
        "ax.set_yticks([0, 5, 10, 15, 20,25, 30, 35, 40])\n",
        "\n",
        "# create a list to collect the plt.patches data\n",
        "totals = []\n",
        "\n",
        "# find the values and append to list\n",
        "for i in ax.patches:\n",
        "    totals.append(i.get_height())\n",
        "\n",
        "# set individual bar lables using above list\n",
        "total = sum(totals)\n",
        "\n",
        "# set individual bar lables using above list\n",
        "for i in ax.patches:\n",
        "    # get_x pulls left or right; get_height pushes up or down\n",
        "    ax.text(i.get_x()-.03, i.get_height()+.5, \\\n",
        "            str(round((i.get_height()/total)*100, 2))+'%', fontsize=15,\n",
        "                color='dimgrey')"
      ],
      "execution_count": 38,
      "outputs": [
        {
          "output_type": "display_data",
          "data": {
            "image/png": "[encoded data removed]",
            "text/plain": [
              "<Figure size 720x504 with 1 Axes>"
            ]
          },
          "metadata": {
            "tags": []
          }
        }
      ]
    },
    {
      "cell_type": "code",
      "metadata": {
        "id": "qACivHLt-1P5",
        "colab_type": "code",
        "colab": {
          "base_uri": "https://localhost:8080/",
          "height": 650
        },
        "outputId": "ad8def92-248a-4b27-e8d4-3272b03fb38b"
      },
      "source": [
        "#from the plotted graphs we see that the respondents according to job_type self employed,informally employed and fish farming \n",
        "#accounted for the greatest percentage. in this survey it looks an interesting variable to investigate\n",
        "ax = df['job_type'].value_counts().plot(kind='bar', figsize=(10,7),\n",
        "                                        color=\"gold\", fontsize=13);\n",
        "ax.set_alpha(0.8)\n",
        "ax.set_title(\"job_type\", fontsize=18)\n",
        "ax.set_ylabel(\"frequency\", fontsize=18);\n",
        "ax.set_yticks([0, 5, 10, 15, 20,25, 30, 35, 40])\n",
        "\n",
        "# create a list to collect the plt.patches data\n",
        "totals = []\n",
        "\n",
        "# find the values and append to list\n",
        "for i in ax.patches:\n",
        "    totals.append(i.get_height())\n",
        "\n",
        "# set individual bar lables using above list\n",
        "total = sum(totals)\n",
        "\n",
        "# set individual bar lables using above list\n",
        "for i in ax.patches:\n",
        "    # get_x pulls left or right; get_height pushes up or down\n",
        "    ax.text(i.get_x()-.03, i.get_height()+.5, \\\n",
        "            str(round((i.get_height()/total)*100, 2))+'%', fontsize=15,\n",
        "                color='dimgrey')"
      ],
      "execution_count": 39,
      "outputs": [
        {
          "output_type": "display_data",
          "data": {
            "image/png": "[encoded data removed]",
            "text/plain": [
              "<Figure size 720x504 with 1 Axes>"
            ]
          },
          "metadata": {
            "tags": []
          }
        }
      ]
    },
    {
      "cell_type": "code",
      "metadata": {
        "id": "N8zYcXXu_IfV",
        "colab_type": "code",
        "colab": {
          "base_uri": "https://localhost:8080/",
          "height": 566
        },
        "outputId": "42afa0b9-8cbf-4668-9dcf-1d9a5cde6a7a"
      },
      "source": [
        "#heads of households accounted for the biggest percentage of respondents in this category.\n",
        "#from te survey of the three countries this variable does not appear key to pointing whether one can have an account or not.\n",
        "#rom the plots however we are able to understand the distribution of the respondents in this category with non relatives forming the smallest\n",
        "#percentage of respondents.\n",
        "ax = df['relationship_with_head'].value_counts().plot(kind='bar', figsize=(10,7),\n",
        "                                        color=\"brown\", fontsize=13);\n",
        "ax.set_alpha(0.8)\n",
        "ax.set_title(\"relationship  with head\", fontsize=18)\n",
        "ax.set_ylabel(\"frequency\", fontsize=18);\n",
        "ax.set_yticks([0, 5, 10, 15, 20,25, 30, 35, 40])\n",
        "\n",
        "# create a list to collect the plt.patches data\n",
        "totals = []\n",
        "\n",
        "# find the values and append to list\n",
        "for i in ax.patches:\n",
        "    totals.append(i.get_height())\n",
        "\n",
        "# set individual bar lables using above list\n",
        "total = sum(totals)\n",
        "\n",
        "# set individual bar lables using above list\n",
        "for i in ax.patches:\n",
        "    # get_x pulls left or right; get_height pushes up or down\n",
        "    ax.text(i.get_x()-.03, i.get_height()+.5, \\\n",
        "            str(round((i.get_height()/total)*100, 2))+'%', fontsize=15,\n",
        "                color='dimgrey')"
      ],
      "execution_count": 40,
      "outputs": [
        {
          "output_type": "display_data",
          "data": {
            "image/png": "[encoded data removed]",
            "text/plain": [
              "<Figure size 720x504 with 1 Axes>"
            ]
          },
          "metadata": {
            "tags": []
          }
        }
      ]
    },
    {
      "cell_type": "code",
      "metadata": {
        "id": "mYvPLxlL_b2h",
        "colab_type": "code",
        "colab": {
          "base_uri": "https://localhost:8080/",
          "height": 641
        },
        "outputId": "26aff970-9a86-433e-8a19-b3a344041743"
      },
      "source": [
        "#this variable is highly correlated to an individual having an account or not and would obviously be factored in while creatint the model\n",
        "#indiviiduals who have attained education upto primary level are the biggest portion of the respondents at 54.55%\n",
        "ax = df['education_level'].value_counts().plot(kind='bar', figsize=(10,7),\n",
        "                                        color=\"maroon\", fontsize=13);\n",
        "ax.set_alpha(0.8)\n",
        "ax.set_title(\"education_level\", fontsize=18)#for the title of the graph\n",
        "ax.set_ylabel(\"frequency\", fontsize=18);#\n",
        "ax.set_yticks([0, 5, 10, 15, 20,25, 30, 35, 40])\n",
        "\n",
        "# create a list to collect the plt.patches data\n",
        "totals = []\n",
        "\n",
        "# find the values and append to list\n",
        "for i in ax.patches:\n",
        "    totals.append(i.get_height())\n",
        "\n",
        "# set individual bar lables using above list\n",
        "total = sum(totals)\n",
        "\n",
        "# set individual bar lables using above list\n",
        "for i in ax.patches:\n",
        "    # get_x pulls left or right; get_height pushes up or down\n",
        "    ax.text(i.get_x()-.03, i.get_height()+.5, \\\n",
        "            str(round((i.get_height()/total)*100, 2))+'%', fontsize=15,\n",
        "                color='dimgrey')"
      ],
      "execution_count": 41,
      "outputs": [
        {
          "output_type": "display_data",
          "data": {
            "image/png": "[encoded data removed]",
            "text/plain": [
              "<Figure size 720x504 with 1 Axes>"
            ]
          },
          "metadata": {
            "tags": []
          }
        }
      ]
    },
    {
      "cell_type": "markdown",
      "metadata": {
        "id": "30CjGGPLryRd",
        "colab_type": "text"
      },
      "source": [
        "BIVARIATE ANALYSIS"
      ]
    },
    {
      "cell_type": "code",
      "metadata": {
        "id": "51bRHb8l5ehE",
        "colab_type": "code",
        "colab": {}
      },
      "source": [
        "#we want to check for the distribution od variables and how they relate to one another . we shall also be establishing\n",
        "#the strength of relationship if there exists"
      ],
      "execution_count": 0,
      "outputs": []
    },
    {
      "cell_type": "code",
      "metadata": {
        "id": "6qVWzkKljnD7",
        "colab_type": "code",
        "outputId": "814d3de4-3462-4187-fceb-b7e9837b9b43",
        "colab": {
          "base_uri": "https://localhost:8080/",
          "height": 403
        }
      },
      "source": [
        "\n",
        "plt.figure(figsize=(8, 6))\n",
        "\n",
        "sns.pairplot(df, diag_kind='kde')"
      ],
      "execution_count": 43,
      "outputs": [
        {
          "output_type": "execute_result",
          "data": {
            "text/plain": [
              "<seaborn.axisgrid.PairGrid at 0x7f49efabb400>"
            ]
          },
          "metadata": {
            "tags": []
          },
          "execution_count": 43
        },
        {
          "output_type": "display_data",
          "data": {
            "text/plain": [
              "<Figure size 576x432 with 0 Axes>"
            ]
          },
          "metadata": {
            "tags": []
          }
        },
        {
          "output_type": "display_data",
          "data": {
            "image/png": "[encoded data removed]",
            "text/plain": [
              "<Figure size 360x360 with 6 Axes>"
            ]
          },
          "metadata": {
            "tags": []
          }
        }
      ]
    },
    {
      "cell_type": "code",
      "metadata": {
        "id": "p89y9JkF7mMo",
        "colab_type": "code",
        "colab": {}
      },
      "source": [
        "#in the above plots we see no relationship between the two variables at all"
      ],
      "execution_count": 0,
      "outputs": []
    },
    {
      "cell_type": "code",
      "metadata": {
        "id": "OE_TctRFjnAp",
        "colab_type": "code",
        "outputId": "dd10d2a4-72a3-4e1d-9121-6055489973bf",
        "colab": {
          "base_uri": "https://localhost:8080/",
          "height": 306
        }
      },
      "source": [
        "sns.heatmap(df.corr())\n",
        "#the black shades confirm that there is completely no relationship between the two variables"
      ],
      "execution_count": 45,
      "outputs": [
        {
          "output_type": "execute_result",
          "data": {
            "text/plain": [
              "<matplotlib.axes._subplots.AxesSubplot at 0x7f49ecebe940>"
            ]
          },
          "metadata": {
            "tags": []
          },
          "execution_count": 45
        },
        {
          "output_type": "display_data",
          "data": {
            "image/png": "[encoded data removed]",
            "text/plain": [
              "<Figure size 432x288 with 2 Axes>"
            ]
          },
          "metadata": {
            "tags": []
          }
        }
      ]
    },
    {
      "cell_type": "markdown",
      "metadata": {
        "id": "bRYO1H0DjDJh",
        "colab_type": "text"
      },
      "source": [
        "Distributions of observations within categories"
      ]
    },
    {
      "cell_type": "code",
      "metadata": {
        "id": "QnOpJcyncNYY",
        "colab_type": "code",
        "outputId": "5a37c185-5665-42d1-e11c-17c5dae6b6b0",
        "colab": {
          "base_uri": "https://localhost:8080/",
          "height": 420
        }
      },
      "source": [
        "#we can use this to visualize how our observations are distributed within the various categories.\n",
        "#we can say that the ages of the respondents in the category of educ level those with no formal education were more and older compared to the rest\n",
        "\n",
        "sns.boxplot(x='education_level',y='age_of_respondent',data=df,palette='rainbow')\n",
        "plt.xticks(rotation = 45)\n",
        "plt.title('education level vs age of respondent')\n"
      ],
      "execution_count": 46,
      "outputs": [
        {
          "output_type": "execute_result",
          "data": {
            "text/plain": [
              "Text(0.5, 1.0, 'education level vs age of respondent')"
            ]
          },
          "metadata": {
            "tags": []
          },
          "execution_count": 46
        },
        {
          "output_type": "display_data",
          "data": {
            "image/png": "[encoded data removed]",
            "text/plain": [
              "<Figure size 432x288 with 1 Axes>"
            ]
          },
          "metadata": {
            "tags": []
          }
        }
      ]
    },
    {
      "cell_type": "code",
      "metadata": {
        "id": "VIDfB-JSjm4_",
        "colab_type": "code",
        "outputId": "e28aa7b3-e2bb-475b-c63d-3da001c85ba9",
        "colab": {
          "base_uri": "https://localhost:8080/",
          "height": 424
        }
      },
      "source": [
        "sns.boxplot(x='job_type',y='age_of_respondent',data=df,palette='coolwarm')\n",
        "plt.xticks(rotation = 45)\n",
        "plt.title('job_type vs age of respondent')"
      ],
      "execution_count": 47,
      "outputs": [
        {
          "output_type": "execute_result",
          "data": {
            "text/plain": [
              "Text(0.5, 1.0, 'job_type vs age of respondent')"
            ]
          },
          "metadata": {
            "tags": []
          },
          "execution_count": 47
        },
        {
          "output_type": "display_data",
          "data": {
            "image/png": "[encoded data removed]",
            "text/plain": [
              "<Figure size 432x288 with 1 Axes>"
            ]
          },
          "metadata": {
            "tags": []
          }
        }
      ]
    },
    {
      "cell_type": "code",
      "metadata": {
        "id": "68xOPAJkf8ts",
        "colab_type": "code",
        "outputId": "9011cd1d-def2-4a89-adf3-0a8f7db8b989",
        "colab": {
          "base_uri": "https://localhost:8080/",
          "height": 336
        }
      },
      "source": [
        "#the plot below suggests that the ages of the respondents whether male or female are around the same bracket\n",
        "sns.boxplot(x='gender_of_respondent',y='age_of_respondent',data=df,palette='rainbow')\n",
        "plt.xticks(rotation = 45)\n",
        "plt.title('gender_of_respondent vs age of respondent')\n"
      ],
      "execution_count": 48,
      "outputs": [
        {
          "output_type": "execute_result",
          "data": {
            "text/plain": [
              "Text(0.5, 1.0, 'gender_of_respondent vs age of respondent')"
            ]
          },
          "metadata": {
            "tags": []
          },
          "execution_count": 48
        },
        {
          "output_type": "display_data",
          "data": {
            "image/png": "[encoded data removed]",
            "text/plain": [
              "<Figure size 432x288 with 1 Axes>"
            ]
          },
          "metadata": {
            "tags": []
          }
        }
      ]
    },
    {
      "cell_type": "code",
      "metadata": {
        "id": "cqoN5UCRgd2R",
        "colab_type": "code",
        "outputId": "e1b8a417-7d10-4a34-9d2d-c145193d33a2",
        "colab": {
          "base_uri": "https://localhost:8080/",
          "height": 336
        }
      },
      "source": [
        "#the plot suggests that there was no big variance in the number of males and females with regard to the household size\n",
        "sns.boxplot(x='gender_of_respondent',y='household_size',data=df,palette='rainbow')\n",
        "plt.xticks(rotation = 45)\n",
        "plt.title('gender_of_respondent vs household_size')\n"
      ],
      "execution_count": 49,
      "outputs": [
        {
          "output_type": "execute_result",
          "data": {
            "text/plain": [
              "Text(0.5, 1.0, 'gender_of_respondent vs household_size')"
            ]
          },
          "metadata": {
            "tags": []
          },
          "execution_count": 49
        },
        {
          "output_type": "display_data",
          "data": {
            "image/png": "[encoded data removed]",
            "text/plain": [
              "<Figure size 432x288 with 1 Axes>"
            ]
          },
          "metadata": {
            "tags": []
          }
        }
      ]
    },
    {
      "cell_type": "code",
      "metadata": {
        "id": "fFqpkQltg07A",
        "colab_type": "code",
        "outputId": "0fdbb528-880d-47d9-86da-86f9195c99ee",
        "colab": {
          "base_uri": "https://localhost:8080/",
          "height": 393
        }
      },
      "source": [
        "#\n",
        "sns.boxplot(x='marital_status',y='age_of_respondent',data=df,palette='rainbow')\n",
        "plt.xticks(rotation = 45)\n",
        "plt.title('marital_status vs age of respondent')\n"
      ],
      "execution_count": 50,
      "outputs": [
        {
          "output_type": "execute_result",
          "data": {
            "text/plain": [
              "Text(0.5, 1.0, 'marital_status vs age of respondent')"
            ]
          },
          "metadata": {
            "tags": []
          },
          "execution_count": 50
        },
        {
          "output_type": "display_data",
          "data": {
            "image/png": "[encoded data removed]",
            "text/plain": [
              "<Figure size 432x288 with 1 Axes>"
            ]
          },
          "metadata": {
            "tags": []
          }
        }
      ]
    },
    {
      "cell_type": "code",
      "metadata": {
        "id": "VIDSWYsNZopK",
        "colab_type": "code",
        "colab": {
          "base_uri": "https://localhost:8080/",
          "height": 550
        },
        "outputId": "2246698c-0e50-4392-a5cb-fd738a5b1453"
      },
      "source": [
        "#this plot suggests that most of the respondents were self employed in this jobtype category\n",
        "sns.catplot(x=\"job_type\", y=\"household_size\", data=df)\n",
        "plt.xticks(rotation = 90)\n",
        "plt.title('job_type vs household size')\n"
      ],
      "execution_count": 51,
      "outputs": [
        {
          "output_type": "execute_result",
          "data": {
            "text/plain": [
              "Text(0.5, 1.0, 'job_type vs household size')"
            ]
          },
          "metadata": {
            "tags": []
          },
          "execution_count": 51
        },
        {
          "output_type": "display_data",
          "data": {
            "image/png": "[encoded data removed]",
            "text/plain": [
              "<Figure size 360x360 with 1 Axes>"
            ]
          },
          "metadata": {
            "tags": []
          }
        }
      ]
    },
    {
      "cell_type": "code",
      "metadata": {
        "id": "tNRUGKJiiDoQ",
        "colab_type": "code",
        "colab": {}
      },
      "source": [
        ""
      ],
      "execution_count": 0,
      "outputs": []
    },
    {
      "cell_type": "markdown",
      "metadata": {
        "id": "ERSYQzM30kAz",
        "colab_type": "text"
      },
      "source": [
        "MULTIVARIATE ANALYSIS"
      ]
    },
    {
      "cell_type": "code",
      "metadata": {
        "id": "xrmkU06M-Xyx",
        "colab_type": "code",
        "colab": {}
      },
      "source": [
        "#multiple regression\n",
        "from sklearn.linear_model import LinearRegression\n",
        "from sklearn import model_selection\n",
        "from sklearn.metrics import r2_score\n",
        "from sklearn.model_selection import train_test_split\n",
        "import statsmodels.api as sm\n",
        "from sklearn.metrics import accuracy_score"
      ],
      "execution_count": 0,
      "outputs": []
    },
    {
      "cell_type": "code",
      "metadata": {
        "id": "DTO39M8_0KXy",
        "colab_type": "code",
        "colab": {}
      },
      "source": [
        "#From our dataset we to divide dataset \n",
        "# into features and corresponding labels and then divide the resultant dataset into training and test sets.\n",
        "X = df.iloc[:, 2:11]\n",
        "y = df.iloc[:, 1]"
      ],
      "execution_count": 0,
      "outputs": []
    },
    {
      "cell_type": "code",
      "metadata": {
        "id": "F5GftEtt8q7-",
        "colab_type": "code",
        "colab": {}
      },
      "source": [
        "#because the data is categorical we have to make them in aa form that we can run a regression model on it\n",
        "X=pd.get_dummies(X)"
      ],
      "execution_count": 0,
      "outputs": []
    },
    {
      "cell_type": "code",
      "metadata": {
        "id": "5QpbB2wC9MAP",
        "colab_type": "code",
        "colab": {}
      },
      "source": [
        "from sklearn.preprocessing import LabelEncoder\n",
        "label_encoder = LabelEncoder()\n",
        "y = label_encoder.fit_transform(y)"
      ],
      "execution_count": 0,
      "outputs": []
    },
    {
      "cell_type": "code",
      "metadata": {
        "id": "EBkn2Idq-pWb",
        "colab_type": "code",
        "outputId": "cd818959-08d3-4b4a-9f5e-066e52158f9f",
        "colab": {
          "base_uri": "https://localhost:8080/",
          "height": 258
        }
      },
      "source": [
        "X.head()"
      ],
      "execution_count": 56,
      "outputs": [
        {
          "output_type": "execute_result",
          "data": {
            "text/html": [
              "<div>\n",
              "<style scoped>\n",
              "    .dataframe tbody tr th:only-of-type {\n",
              "        vertical-align: middle;\n",
              "    }\n",
              "\n",
              "    .dataframe tbody tr th {\n",
              "        vertical-align: top;\n",
              "    }\n",
              "\n",
              "    .dataframe thead th {\n",
              "        text-align: right;\n",
              "    }\n",
              "</style>\n",
              "<table border=\"1\" class=\"dataframe\">\n",
              "  <thead>\n",
              "    <tr style=\"text-align: right;\">\n",
              "      <th></th>\n",
              "      <th>household_size</th>\n",
              "      <th>age_of_respondent</th>\n",
              "      <th>location_type_Rural</th>\n",
              "      <th>location_type_Urban</th>\n",
              "      <th>cellphone_access_No</th>\n",
              "      <th>cellphone_access_Yes</th>\n",
              "      <th>gender_of_respondent_Female</th>\n",
              "      <th>gender_of_respondent_Male</th>\n",
              "      <th>relationship_with_head_Child</th>\n",
              "      <th>relationship_with_head_Head of Household</th>\n",
              "      <th>relationship_with_head_Other non-relatives</th>\n",
              "      <th>relationship_with_head_Other relative</th>\n",
              "      <th>relationship_with_head_Parent</th>\n",
              "      <th>relationship_with_head_Spouse</th>\n",
              "      <th>marital_status_Divorced/Seperated</th>\n",
              "      <th>marital_status_Dont know</th>\n",
              "      <th>marital_status_Married/Living together</th>\n",
              "      <th>marital_status_Single/Never Married</th>\n",
              "      <th>marital_status_Widowed</th>\n",
              "      <th>education_level_6</th>\n",
              "      <th>education_level_No formal education</th>\n",
              "      <th>education_level_Other/Dont know/RTA</th>\n",
              "      <th>education_level_Primary education</th>\n",
              "      <th>education_level_Secondary education</th>\n",
              "      <th>education_level_Tertiary education</th>\n",
              "      <th>education_level_Vocational/Specialised training</th>\n",
              "      <th>job_type_Dont Know/Refuse to answer</th>\n",
              "      <th>job_type_Farming and Fishing</th>\n",
              "      <th>job_type_Formally employed Government</th>\n",
              "      <th>job_type_Formally employed Private</th>\n",
              "      <th>job_type_Government Dependent</th>\n",
              "      <th>job_type_Informally employed</th>\n",
              "      <th>job_type_No Income</th>\n",
              "      <th>job_type_Other Income</th>\n",
              "      <th>job_type_Remittance Dependent</th>\n",
              "      <th>job_type_Self employed</th>\n",
              "    </tr>\n",
              "  </thead>\n",
              "  <tbody>\n",
              "    <tr>\n",
              "      <th>0</th>\n",
              "      <td>3.0</td>\n",
              "      <td>24.0</td>\n",
              "      <td>1</td>\n",
              "      <td>0</td>\n",
              "      <td>0</td>\n",
              "      <td>1</td>\n",
              "      <td>1</td>\n",
              "      <td>0</td>\n",
              "      <td>0</td>\n",
              "      <td>0</td>\n",
              "      <td>0</td>\n",
              "      <td>0</td>\n",
              "      <td>0</td>\n",
              "      <td>1</td>\n",
              "      <td>0</td>\n",
              "      <td>0</td>\n",
              "      <td>1</td>\n",
              "      <td>0</td>\n",
              "      <td>0</td>\n",
              "      <td>0</td>\n",
              "      <td>0</td>\n",
              "      <td>0</td>\n",
              "      <td>0</td>\n",
              "      <td>1</td>\n",
              "      <td>0</td>\n",
              "      <td>0</td>\n",
              "      <td>0</td>\n",
              "      <td>0</td>\n",
              "      <td>0</td>\n",
              "      <td>0</td>\n",
              "      <td>0</td>\n",
              "      <td>0</td>\n",
              "      <td>0</td>\n",
              "      <td>0</td>\n",
              "      <td>0</td>\n",
              "      <td>1</td>\n",
              "    </tr>\n",
              "    <tr>\n",
              "      <th>1</th>\n",
              "      <td>5.0</td>\n",
              "      <td>70.0</td>\n",
              "      <td>1</td>\n",
              "      <td>0</td>\n",
              "      <td>1</td>\n",
              "      <td>0</td>\n",
              "      <td>1</td>\n",
              "      <td>0</td>\n",
              "      <td>0</td>\n",
              "      <td>1</td>\n",
              "      <td>0</td>\n",
              "      <td>0</td>\n",
              "      <td>0</td>\n",
              "      <td>0</td>\n",
              "      <td>0</td>\n",
              "      <td>0</td>\n",
              "      <td>0</td>\n",
              "      <td>0</td>\n",
              "      <td>1</td>\n",
              "      <td>0</td>\n",
              "      <td>1</td>\n",
              "      <td>0</td>\n",
              "      <td>0</td>\n",
              "      <td>0</td>\n",
              "      <td>0</td>\n",
              "      <td>0</td>\n",
              "      <td>0</td>\n",
              "      <td>0</td>\n",
              "      <td>0</td>\n",
              "      <td>0</td>\n",
              "      <td>1</td>\n",
              "      <td>0</td>\n",
              "      <td>0</td>\n",
              "      <td>0</td>\n",
              "      <td>0</td>\n",
              "      <td>0</td>\n",
              "    </tr>\n",
              "    <tr>\n",
              "      <th>2</th>\n",
              "      <td>5.0</td>\n",
              "      <td>26.0</td>\n",
              "      <td>0</td>\n",
              "      <td>1</td>\n",
              "      <td>0</td>\n",
              "      <td>1</td>\n",
              "      <td>0</td>\n",
              "      <td>1</td>\n",
              "      <td>0</td>\n",
              "      <td>0</td>\n",
              "      <td>0</td>\n",
              "      <td>1</td>\n",
              "      <td>0</td>\n",
              "      <td>0</td>\n",
              "      <td>0</td>\n",
              "      <td>0</td>\n",
              "      <td>0</td>\n",
              "      <td>1</td>\n",
              "      <td>0</td>\n",
              "      <td>0</td>\n",
              "      <td>0</td>\n",
              "      <td>0</td>\n",
              "      <td>0</td>\n",
              "      <td>0</td>\n",
              "      <td>0</td>\n",
              "      <td>1</td>\n",
              "      <td>0</td>\n",
              "      <td>0</td>\n",
              "      <td>0</td>\n",
              "      <td>0</td>\n",
              "      <td>0</td>\n",
              "      <td>0</td>\n",
              "      <td>0</td>\n",
              "      <td>0</td>\n",
              "      <td>0</td>\n",
              "      <td>1</td>\n",
              "    </tr>\n",
              "    <tr>\n",
              "      <th>3</th>\n",
              "      <td>5.0</td>\n",
              "      <td>34.0</td>\n",
              "      <td>1</td>\n",
              "      <td>0</td>\n",
              "      <td>0</td>\n",
              "      <td>1</td>\n",
              "      <td>1</td>\n",
              "      <td>0</td>\n",
              "      <td>0</td>\n",
              "      <td>1</td>\n",
              "      <td>0</td>\n",
              "      <td>0</td>\n",
              "      <td>0</td>\n",
              "      <td>0</td>\n",
              "      <td>0</td>\n",
              "      <td>0</td>\n",
              "      <td>1</td>\n",
              "      <td>0</td>\n",
              "      <td>0</td>\n",
              "      <td>0</td>\n",
              "      <td>0</td>\n",
              "      <td>0</td>\n",
              "      <td>1</td>\n",
              "      <td>0</td>\n",
              "      <td>0</td>\n",
              "      <td>0</td>\n",
              "      <td>0</td>\n",
              "      <td>0</td>\n",
              "      <td>0</td>\n",
              "      <td>1</td>\n",
              "      <td>0</td>\n",
              "      <td>0</td>\n",
              "      <td>0</td>\n",
              "      <td>0</td>\n",
              "      <td>0</td>\n",
              "      <td>0</td>\n",
              "    </tr>\n",
              "    <tr>\n",
              "      <th>4</th>\n",
              "      <td>8.0</td>\n",
              "      <td>26.0</td>\n",
              "      <td>0</td>\n",
              "      <td>1</td>\n",
              "      <td>1</td>\n",
              "      <td>0</td>\n",
              "      <td>0</td>\n",
              "      <td>1</td>\n",
              "      <td>1</td>\n",
              "      <td>0</td>\n",
              "      <td>0</td>\n",
              "      <td>0</td>\n",
              "      <td>0</td>\n",
              "      <td>0</td>\n",
              "      <td>0</td>\n",
              "      <td>0</td>\n",
              "      <td>0</td>\n",
              "      <td>1</td>\n",
              "      <td>0</td>\n",
              "      <td>0</td>\n",
              "      <td>0</td>\n",
              "      <td>0</td>\n",
              "      <td>1</td>\n",
              "      <td>0</td>\n",
              "      <td>0</td>\n",
              "      <td>0</td>\n",
              "      <td>0</td>\n",
              "      <td>0</td>\n",
              "      <td>0</td>\n",
              "      <td>0</td>\n",
              "      <td>0</td>\n",
              "      <td>1</td>\n",
              "      <td>0</td>\n",
              "      <td>0</td>\n",
              "      <td>0</td>\n",
              "      <td>0</td>\n",
              "    </tr>\n",
              "  </tbody>\n",
              "</table>\n",
              "</div>"
            ],
            "text/plain": [
              "   household_size  ...  job_type_Self employed\n",
              "0             3.0  ...                       1\n",
              "1             5.0  ...                       0\n",
              "2             5.0  ...                       1\n",
              "3             5.0  ...                       0\n",
              "4             8.0  ...                       0\n",
              "\n",
              "[5 rows x 36 columns]"
            ]
          },
          "metadata": {
            "tags": []
          },
          "execution_count": 56
        }
      ]
    },
    {
      "cell_type": "code",
      "metadata": {
        "id": "x_AzkPYwiqkX",
        "colab_type": "code",
        "outputId": "19c7ea31-732b-4cf5-c58f-c2908b19cfe8",
        "colab": {
          "base_uri": "https://localhost:8080/",
          "height": 34
        }
      },
      "source": [
        "X.shape"
      ],
      "execution_count": 57,
      "outputs": [
        {
          "output_type": "execute_result",
          "data": {
            "text/plain": [
              "(23524, 36)"
            ]
          },
          "metadata": {
            "tags": []
          },
          "execution_count": 57
        }
      ]
    },
    {
      "cell_type": "code",
      "metadata": {
        "id": "7eUGHpKu1B5I",
        "colab_type": "code",
        "colab": {}
      },
      "source": [
        "#the following code divides data into training and test sets\n",
        "#\n",
        "from sklearn.model_selection import train_test_split\n",
        "X_train, X_test, y_train, y_test = train_test_split(X, y, test_size=0.2, random_state=0)"
      ],
      "execution_count": 0,
      "outputs": []
    },
    {
      "cell_type": "code",
      "metadata": {
        "id": "cWxhf2NSbnXQ",
        "colab_type": "code",
        "colab": {}
      },
      "source": [
        "# We now need to perform feature scaling. We execute the following code to do so:\n",
        "# this is components are sensitive to scale of measurements so we need to standardize our dataset\n",
        "from sklearn.preprocessing import StandardScaler\n",
        "sc = StandardScaler()\n",
        "X_train = sc.fit_transform(X_train)\n",
        "X_test = sc.transform(X_test)"
      ],
      "execution_count": 0,
      "outputs": []
    },
    {
      "cell_type": "code",
      "metadata": {
        "id": "CU5_3XE-n_im",
        "colab_type": "code",
        "outputId": "26577205-f453-43be-9ea4-79188605dd91",
        "colab": {
          "base_uri": "https://localhost:8080/",
          "height": 1000
        }
      },
      "source": [
        "#we want to check if there is a relationship between the variables and also the strength of the relationship\n",
        "X.corr()"
      ],
      "execution_count": 60,
      "outputs": [
        {
          "output_type": "execute_result",
          "data": {
            "text/html": [
              "<div>\n",
              "<style scoped>\n",
              "    .dataframe tbody tr th:only-of-type {\n",
              "        vertical-align: middle;\n",
              "    }\n",
              "\n",
              "    .dataframe tbody tr th {\n",
              "        vertical-align: top;\n",
              "    }\n",
              "\n",
              "    .dataframe thead th {\n",
              "        text-align: right;\n",
              "    }\n",
              "</style>\n",
              "<table border=\"1\" class=\"dataframe\">\n",
              "  <thead>\n",
              "    <tr style=\"text-align: right;\">\n",
              "      <th></th>\n",
              "      <th>household_size</th>\n",
              "      <th>age_of_respondent</th>\n",
              "      <th>location_type_Rural</th>\n",
              "      <th>location_type_Urban</th>\n",
              "      <th>cellphone_access_No</th>\n",
              "      <th>cellphone_access_Yes</th>\n",
              "      <th>gender_of_respondent_Female</th>\n",
              "      <th>gender_of_respondent_Male</th>\n",
              "      <th>relationship_with_head_Child</th>\n",
              "      <th>relationship_with_head_Head of Household</th>\n",
              "      <th>relationship_with_head_Other non-relatives</th>\n",
              "      <th>relationship_with_head_Other relative</th>\n",
              "      <th>relationship_with_head_Parent</th>\n",
              "      <th>relationship_with_head_Spouse</th>\n",
              "      <th>marital_status_Divorced/Seperated</th>\n",
              "      <th>marital_status_Dont know</th>\n",
              "      <th>marital_status_Married/Living together</th>\n",
              "      <th>marital_status_Single/Never Married</th>\n",
              "      <th>marital_status_Widowed</th>\n",
              "      <th>education_level_6</th>\n",
              "      <th>education_level_No formal education</th>\n",
              "      <th>education_level_Other/Dont know/RTA</th>\n",
              "      <th>education_level_Primary education</th>\n",
              "      <th>education_level_Secondary education</th>\n",
              "      <th>education_level_Tertiary education</th>\n",
              "      <th>education_level_Vocational/Specialised training</th>\n",
              "      <th>job_type_Dont Know/Refuse to answer</th>\n",
              "      <th>job_type_Farming and Fishing</th>\n",
              "      <th>job_type_Formally employed Government</th>\n",
              "      <th>job_type_Formally employed Private</th>\n",
              "      <th>job_type_Government Dependent</th>\n",
              "      <th>job_type_Informally employed</th>\n",
              "      <th>job_type_No Income</th>\n",
              "      <th>job_type_Other Income</th>\n",
              "      <th>job_type_Remittance Dependent</th>\n",
              "      <th>job_type_Self employed</th>\n",
              "    </tr>\n",
              "  </thead>\n",
              "  <tbody>\n",
              "    <tr>\n",
              "      <th>household_size</th>\n",
              "      <td>1.000000</td>\n",
              "      <td>-0.119212</td>\n",
              "      <td>0.274017</td>\n",
              "      <td>-0.274017</td>\n",
              "      <td>-0.098726</td>\n",
              "      <td>0.098726</td>\n",
              "      <td>-0.011329</td>\n",
              "      <td>0.011329</td>\n",
              "      <td>0.204270</td>\n",
              "      <td>-0.243698</td>\n",
              "      <td>0.021011</td>\n",
              "      <td>0.013798</td>\n",
              "      <td>0.042370</td>\n",
              "      <td>0.108263</td>\n",
              "      <td>-0.129416</td>\n",
              "      <td>-0.008536</td>\n",
              "      <td>0.345770</td>\n",
              "      <td>-0.182788</td>\n",
              "      <td>-0.153418</td>\n",
              "      <td>0.002008</td>\n",
              "      <td>-0.007311</td>\n",
              "      <td>0.004614</td>\n",
              "      <td>-0.024692</td>\n",
              "      <td>0.104180</td>\n",
              "      <td>-0.095932</td>\n",
              "      <td>-0.023203</td>\n",
              "      <td>0.024107</td>\n",
              "      <td>0.188149</td>\n",
              "      <td>0.002773</td>\n",
              "      <td>-0.071118</td>\n",
              "      <td>-0.045911</td>\n",
              "      <td>0.013800</td>\n",
              "      <td>-0.065799</td>\n",
              "      <td>0.062540</td>\n",
              "      <td>0.008988</td>\n",
              "      <td>-0.163918</td>\n",
              "    </tr>\n",
              "    <tr>\n",
              "      <th>age_of_respondent</th>\n",
              "      <td>-0.119212</td>\n",
              "      <td>1.000000</td>\n",
              "      <td>0.047508</td>\n",
              "      <td>-0.047508</td>\n",
              "      <td>0.103758</td>\n",
              "      <td>-0.103758</td>\n",
              "      <td>-0.013123</td>\n",
              "      <td>0.013123</td>\n",
              "      <td>-0.302048</td>\n",
              "      <td>0.419421</td>\n",
              "      <td>-0.078538</td>\n",
              "      <td>-0.134724</td>\n",
              "      <td>-0.196217</td>\n",
              "      <td>-0.111259</td>\n",
              "      <td>-0.119497</td>\n",
              "      <td>0.005260</td>\n",
              "      <td>0.054198</td>\n",
              "      <td>-0.296593</td>\n",
              "      <td>0.461496</td>\n",
              "      <td>0.024000</td>\n",
              "      <td>0.359671</td>\n",
              "      <td>0.009449</td>\n",
              "      <td>-0.071641</td>\n",
              "      <td>-0.209862</td>\n",
              "      <td>-0.090700</td>\n",
              "      <td>-0.037003</td>\n",
              "      <td>-0.002777</td>\n",
              "      <td>0.153382</td>\n",
              "      <td>-0.005634</td>\n",
              "      <td>-0.061839</td>\n",
              "      <td>0.171570</td>\n",
              "      <td>-0.088909</td>\n",
              "      <td>-0.060762</td>\n",
              "      <td>-0.014441</td>\n",
              "      <td>-0.057750</td>\n",
              "      <td>0.000237</td>\n",
              "    </tr>\n",
              "    <tr>\n",
              "      <th>location_type_Rural</th>\n",
              "      <td>0.274017</td>\n",
              "      <td>0.047508</td>\n",
              "      <td>1.000000</td>\n",
              "      <td>-1.000000</td>\n",
              "      <td>-0.084868</td>\n",
              "      <td>0.084868</td>\n",
              "      <td>0.012281</td>\n",
              "      <td>-0.012281</td>\n",
              "      <td>0.068149</td>\n",
              "      <td>-0.017148</td>\n",
              "      <td>-0.032064</td>\n",
              "      <td>-0.028638</td>\n",
              "      <td>-0.074190</td>\n",
              "      <td>0.026308</td>\n",
              "      <td>-0.023440</td>\n",
              "      <td>-0.008893</td>\n",
              "      <td>0.234800</td>\n",
              "      <td>-0.268019</td>\n",
              "      <td>0.052319</td>\n",
              "      <td>-0.001220</td>\n",
              "      <td>0.090301</td>\n",
              "      <td>-0.008893</td>\n",
              "      <td>0.018154</td>\n",
              "      <td>-0.043799</td>\n",
              "      <td>-0.084807</td>\n",
              "      <td>-0.050856</td>\n",
              "      <td>0.022834</td>\n",
              "      <td>0.346226</td>\n",
              "      <td>-0.047365</td>\n",
              "      <td>-0.068097</td>\n",
              "      <td>0.001962</td>\n",
              "      <td>0.070894</td>\n",
              "      <td>-0.045217</td>\n",
              "      <td>-0.011225</td>\n",
              "      <td>-0.054073</td>\n",
              "      <td>-0.294581</td>\n",
              "    </tr>\n",
              "    <tr>\n",
              "      <th>location_type_Urban</th>\n",
              "      <td>-0.274017</td>\n",
              "      <td>-0.047508</td>\n",
              "      <td>-1.000000</td>\n",
              "      <td>1.000000</td>\n",
              "      <td>0.084868</td>\n",
              "      <td>-0.084868</td>\n",
              "      <td>-0.012281</td>\n",
              "      <td>0.012281</td>\n",
              "      <td>-0.068149</td>\n",
              "      <td>0.017148</td>\n",
              "      <td>0.032064</td>\n",
              "      <td>0.028638</td>\n",
              "      <td>0.074190</td>\n",
              "      <td>-0.026308</td>\n",
              "      <td>0.023440</td>\n",
              "      <td>0.008893</td>\n",
              "      <td>-0.234800</td>\n",
              "      <td>0.268019</td>\n",
              "      <td>-0.052319</td>\n",
              "      <td>0.001220</td>\n",
              "      <td>-0.090301</td>\n",
              "      <td>0.008893</td>\n",
              "      <td>-0.018154</td>\n",
              "      <td>0.043799</td>\n",
              "      <td>0.084807</td>\n",
              "      <td>0.050856</td>\n",
              "      <td>-0.022834</td>\n",
              "      <td>-0.346226</td>\n",
              "      <td>0.047365</td>\n",
              "      <td>0.068097</td>\n",
              "      <td>-0.001962</td>\n",
              "      <td>-0.070894</td>\n",
              "      <td>0.045217</td>\n",
              "      <td>0.011225</td>\n",
              "      <td>0.054073</td>\n",
              "      <td>0.294581</td>\n",
              "    </tr>\n",
              "    <tr>\n",
              "      <th>cellphone_access_No</th>\n",
              "      <td>-0.098726</td>\n",
              "      <td>0.103758</td>\n",
              "      <td>-0.084868</td>\n",
              "      <td>0.084868</td>\n",
              "      <td>1.000000</td>\n",
              "      <td>-1.000000</td>\n",
              "      <td>0.102115</td>\n",
              "      <td>-0.102115</td>\n",
              "      <td>0.003786</td>\n",
              "      <td>-0.056033</td>\n",
              "      <td>-0.023863</td>\n",
              "      <td>0.030310</td>\n",
              "      <td>0.049116</td>\n",
              "      <td>0.030356</td>\n",
              "      <td>0.028764</td>\n",
              "      <td>-0.005599</td>\n",
              "      <td>-0.157912</td>\n",
              "      <td>0.065754</td>\n",
              "      <td>0.123893</td>\n",
              "      <td>0.011596</td>\n",
              "      <td>0.204348</td>\n",
              "      <td>-0.005599</td>\n",
              "      <td>0.009639</td>\n",
              "      <td>-0.119766</td>\n",
              "      <td>-0.099806</td>\n",
              "      <td>-0.099015</td>\n",
              "      <td>-0.001971</td>\n",
              "      <td>-0.111498</td>\n",
              "      <td>-0.071634</td>\n",
              "      <td>-0.105631</td>\n",
              "      <td>0.058474</td>\n",
              "      <td>0.008630</td>\n",
              "      <td>0.104005</td>\n",
              "      <td>0.006779</td>\n",
              "      <td>0.083016</td>\n",
              "      <td>0.055152</td>\n",
              "    </tr>\n",
              "    <tr>\n",
              "      <th>cellphone_access_Yes</th>\n",
              "      <td>0.098726</td>\n",
              "      <td>-0.103758</td>\n",
              "      <td>0.084868</td>\n",
              "      <td>-0.084868</td>\n",
              "      <td>-1.000000</td>\n",
              "      <td>1.000000</td>\n",
              "      <td>-0.102115</td>\n",
              "      <td>0.102115</td>\n",
              "      <td>-0.003786</td>\n",
              "      <td>0.056033</td>\n",
              "      <td>0.023863</td>\n",
              "      <td>-0.030310</td>\n",
              "      <td>-0.049116</td>\n",
              "      <td>-0.030356</td>\n",
              "      <td>-0.028764</td>\n",
              "      <td>0.005599</td>\n",
              "      <td>0.157912</td>\n",
              "      <td>-0.065754</td>\n",
              "      <td>-0.123893</td>\n",
              "      <td>-0.011596</td>\n",
              "      <td>-0.204348</td>\n",
              "      <td>0.005599</td>\n",
              "      <td>-0.009639</td>\n",
              "      <td>0.119766</td>\n",
              "      <td>0.099806</td>\n",
              "      <td>0.099015</td>\n",
              "      <td>0.001971</td>\n",
              "      <td>0.111498</td>\n",
              "      <td>0.071634</td>\n",
              "      <td>0.105631</td>\n",
              "      <td>-0.058474</td>\n",
              "      <td>-0.008630</td>\n",
              "      <td>-0.104005</td>\n",
              "      <td>-0.006779</td>\n",
              "      <td>-0.083016</td>\n",
              "      <td>-0.055152</td>\n",
              "    </tr>\n",
              "    <tr>\n",
              "      <th>gender_of_respondent_Female</th>\n",
              "      <td>-0.011329</td>\n",
              "      <td>-0.013123</td>\n",
              "      <td>0.012281</td>\n",
              "      <td>-0.012281</td>\n",
              "      <td>0.102115</td>\n",
              "      <td>-0.102115</td>\n",
              "      <td>1.000000</td>\n",
              "      <td>-1.000000</td>\n",
              "      <td>-0.042925</td>\n",
              "      <td>-0.413223</td>\n",
              "      <td>-0.001170</td>\n",
              "      <td>-0.012238</td>\n",
              "      <td>-0.010867</td>\n",
              "      <td>0.497688</td>\n",
              "      <td>-0.004484</td>\n",
              "      <td>-0.017464</td>\n",
              "      <td>-0.056086</td>\n",
              "      <td>-0.085768</td>\n",
              "      <td>0.219947</td>\n",
              "      <td>0.005245</td>\n",
              "      <td>0.114633</td>\n",
              "      <td>-0.003398</td>\n",
              "      <td>-0.019249</td>\n",
              "      <td>-0.058196</td>\n",
              "      <td>-0.041081</td>\n",
              "      <td>-0.024397</td>\n",
              "      <td>0.006616</td>\n",
              "      <td>0.001094</td>\n",
              "      <td>-0.028923</td>\n",
              "      <td>-0.061431</td>\n",
              "      <td>0.023854</td>\n",
              "      <td>-0.052741</td>\n",
              "      <td>0.073371</td>\n",
              "      <td>0.011221</td>\n",
              "      <td>0.120213</td>\n",
              "      <td>-0.035647</td>\n",
              "    </tr>\n",
              "    <tr>\n",
              "      <th>gender_of_respondent_Male</th>\n",
              "      <td>0.011329</td>\n",
              "      <td>0.013123</td>\n",
              "      <td>-0.012281</td>\n",
              "      <td>0.012281</td>\n",
              "      <td>-0.102115</td>\n",
              "      <td>0.102115</td>\n",
              "      <td>-1.000000</td>\n",
              "      <td>1.000000</td>\n",
              "      <td>0.042925</td>\n",
              "      <td>0.413223</td>\n",
              "      <td>0.001170</td>\n",
              "      <td>0.012238</td>\n",
              "      <td>0.010867</td>\n",
              "      <td>-0.497688</td>\n",
              "      <td>0.004484</td>\n",
              "      <td>0.017464</td>\n",
              "      <td>0.056086</td>\n",
              "      <td>0.085768</td>\n",
              "      <td>-0.219947</td>\n",
              "      <td>-0.005245</td>\n",
              "      <td>-0.114633</td>\n",
              "      <td>0.003398</td>\n",
              "      <td>0.019249</td>\n",
              "      <td>0.058196</td>\n",
              "      <td>0.041081</td>\n",
              "      <td>0.024397</td>\n",
              "      <td>-0.006616</td>\n",
              "      <td>-0.001094</td>\n",
              "      <td>0.028923</td>\n",
              "      <td>0.061431</td>\n",
              "      <td>-0.023854</td>\n",
              "      <td>0.052741</td>\n",
              "      <td>-0.073371</td>\n",
              "      <td>-0.011221</td>\n",
              "      <td>-0.120213</td>\n",
              "      <td>0.035647</td>\n",
              "    </tr>\n",
              "    <tr>\n",
              "      <th>relationship_with_head_Child</th>\n",
              "      <td>0.204270</td>\n",
              "      <td>-0.302048</td>\n",
              "      <td>0.068149</td>\n",
              "      <td>-0.068149</td>\n",
              "      <td>0.003786</td>\n",
              "      <td>-0.003786</td>\n",
              "      <td>-0.042925</td>\n",
              "      <td>0.042925</td>\n",
              "      <td>1.000000</td>\n",
              "      <td>-0.354463</td>\n",
              "      <td>-0.029194</td>\n",
              "      <td>-0.055310</td>\n",
              "      <td>-0.071177</td>\n",
              "      <td>-0.200296</td>\n",
              "      <td>0.008025</td>\n",
              "      <td>0.001905</td>\n",
              "      <td>-0.267905</td>\n",
              "      <td>0.334782</td>\n",
              "      <td>-0.085592</td>\n",
              "      <td>-0.010967</td>\n",
              "      <td>-0.110270</td>\n",
              "      <td>0.009777</td>\n",
              "      <td>-0.077299</td>\n",
              "      <td>0.210387</td>\n",
              "      <td>0.010384</td>\n",
              "      <td>-0.004866</td>\n",
              "      <td>0.000121</td>\n",
              "      <td>0.000758</td>\n",
              "      <td>-0.020162</td>\n",
              "      <td>-0.034339</td>\n",
              "      <td>-0.017664</td>\n",
              "      <td>0.028517</td>\n",
              "      <td>-0.017492</td>\n",
              "      <td>-0.003700</td>\n",
              "      <td>0.196901</td>\n",
              "      <td>-0.130721</td>\n",
              "    </tr>\n",
              "    <tr>\n",
              "      <th>relationship_with_head_Head of Household</th>\n",
              "      <td>-0.243698</td>\n",
              "      <td>0.419421</td>\n",
              "      <td>-0.017148</td>\n",
              "      <td>0.017148</td>\n",
              "      <td>-0.056033</td>\n",
              "      <td>0.056033</td>\n",
              "      <td>-0.413223</td>\n",
              "      <td>0.413223</td>\n",
              "      <td>-0.354463</td>\n",
              "      <td>1.000000</td>\n",
              "      <td>-0.098864</td>\n",
              "      <td>-0.187302</td>\n",
              "      <td>-0.241034</td>\n",
              "      <td>-0.678283</td>\n",
              "      <td>0.011346</td>\n",
              "      <td>0.007574</td>\n",
              "      <td>-0.013517</td>\n",
              "      <td>-0.187301</td>\n",
              "      <td>0.288633</td>\n",
              "      <td>0.000683</td>\n",
              "      <td>0.123195</td>\n",
              "      <td>0.002944</td>\n",
              "      <td>-0.012332</td>\n",
              "      <td>-0.115736</td>\n",
              "      <td>-0.002224</td>\n",
              "      <td>0.013608</td>\n",
              "      <td>0.002648</td>\n",
              "      <td>0.025757</td>\n",
              "      <td>0.037505</td>\n",
              "      <td>0.057942</td>\n",
              "      <td>0.058844</td>\n",
              "      <td>0.016077</td>\n",
              "      <td>-0.110274</td>\n",
              "      <td>-0.012715</td>\n",
              "      <td>-0.152801</td>\n",
              "      <td>0.060639</td>\n",
              "    </tr>\n",
              "    <tr>\n",
              "      <th>relationship_with_head_Other non-relatives</th>\n",
              "      <td>0.021011</td>\n",
              "      <td>-0.078538</td>\n",
              "      <td>-0.032064</td>\n",
              "      <td>0.032064</td>\n",
              "      <td>-0.023863</td>\n",
              "      <td>0.023863</td>\n",
              "      <td>-0.001170</td>\n",
              "      <td>0.001170</td>\n",
              "      <td>-0.029194</td>\n",
              "      <td>-0.098864</td>\n",
              "      <td>1.000000</td>\n",
              "      <td>-0.015427</td>\n",
              "      <td>-0.019852</td>\n",
              "      <td>-0.055865</td>\n",
              "      <td>0.047365</td>\n",
              "      <td>-0.001664</td>\n",
              "      <td>-0.071490</td>\n",
              "      <td>0.064839</td>\n",
              "      <td>-0.026548</td>\n",
              "      <td>-0.003059</td>\n",
              "      <td>-0.028234</td>\n",
              "      <td>-0.001664</td>\n",
              "      <td>0.015815</td>\n",
              "      <td>0.004847</td>\n",
              "      <td>0.003654</td>\n",
              "      <td>0.003961</td>\n",
              "      <td>-0.006622</td>\n",
              "      <td>-0.039308</td>\n",
              "      <td>-0.004203</td>\n",
              "      <td>0.083707</td>\n",
              "      <td>-0.009295</td>\n",
              "      <td>0.037805</td>\n",
              "      <td>0.005708</td>\n",
              "      <td>0.007436</td>\n",
              "      <td>-0.000592</td>\n",
              "      <td>-0.038482</td>\n",
              "    </tr>\n",
              "    <tr>\n",
              "      <th>relationship_with_head_Other relative</th>\n",
              "      <td>0.013798</td>\n",
              "      <td>-0.134724</td>\n",
              "      <td>-0.028638</td>\n",
              "      <td>0.028638</td>\n",
              "      <td>0.030310</td>\n",
              "      <td>-0.030310</td>\n",
              "      <td>-0.012238</td>\n",
              "      <td>0.012238</td>\n",
              "      <td>-0.055310</td>\n",
              "      <td>-0.187302</td>\n",
              "      <td>-0.015427</td>\n",
              "      <td>1.000000</td>\n",
              "      <td>-0.037611</td>\n",
              "      <td>-0.105839</td>\n",
              "      <td>0.113023</td>\n",
              "      <td>0.010727</td>\n",
              "      <td>-0.112422</td>\n",
              "      <td>0.073347</td>\n",
              "      <td>-0.034295</td>\n",
              "      <td>0.001763</td>\n",
              "      <td>-0.051348</td>\n",
              "      <td>-0.003153</td>\n",
              "      <td>-0.039357</td>\n",
              "      <td>0.070816</td>\n",
              "      <td>0.030988</td>\n",
              "      <td>0.032696</td>\n",
              "      <td>-0.005533</td>\n",
              "      <td>-0.066360</td>\n",
              "      <td>-0.016074</td>\n",
              "      <td>0.023546</td>\n",
              "      <td>-0.005057</td>\n",
              "      <td>-0.004000</td>\n",
              "      <td>0.044800</td>\n",
              "      <td>0.022416</td>\n",
              "      <td>0.092887</td>\n",
              "      <td>-0.028894</td>\n",
              "    </tr>\n",
              "    <tr>\n",
              "      <th>relationship_with_head_Parent</th>\n",
              "      <td>0.042370</td>\n",
              "      <td>-0.196217</td>\n",
              "      <td>-0.074190</td>\n",
              "      <td>0.074190</td>\n",
              "      <td>0.049116</td>\n",
              "      <td>-0.049116</td>\n",
              "      <td>-0.010867</td>\n",
              "      <td>0.010867</td>\n",
              "      <td>-0.071177</td>\n",
              "      <td>-0.241034</td>\n",
              "      <td>-0.019852</td>\n",
              "      <td>-0.037611</td>\n",
              "      <td>1.000000</td>\n",
              "      <td>-0.136201</td>\n",
              "      <td>0.257569</td>\n",
              "      <td>-0.004058</td>\n",
              "      <td>-0.158677</td>\n",
              "      <td>0.049226</td>\n",
              "      <td>-0.053838</td>\n",
              "      <td>-0.007458</td>\n",
              "      <td>-0.068993</td>\n",
              "      <td>-0.004058</td>\n",
              "      <td>-0.009398</td>\n",
              "      <td>0.057646</td>\n",
              "      <td>0.051199</td>\n",
              "      <td>-0.005658</td>\n",
              "      <td>0.003284</td>\n",
              "      <td>-0.069130</td>\n",
              "      <td>-0.018897</td>\n",
              "      <td>-0.007541</td>\n",
              "      <td>-0.008750</td>\n",
              "      <td>-0.036620</td>\n",
              "      <td>0.147220</td>\n",
              "      <td>0.017559</td>\n",
              "      <td>0.025841</td>\n",
              "      <td>0.031259</td>\n",
              "    </tr>\n",
              "    <tr>\n",
              "      <th>relationship_with_head_Spouse</th>\n",
              "      <td>0.108263</td>\n",
              "      <td>-0.111259</td>\n",
              "      <td>0.026308</td>\n",
              "      <td>-0.026308</td>\n",
              "      <td>0.030356</td>\n",
              "      <td>-0.030356</td>\n",
              "      <td>0.497688</td>\n",
              "      <td>-0.497688</td>\n",
              "      <td>-0.200296</td>\n",
              "      <td>-0.678283</td>\n",
              "      <td>-0.055865</td>\n",
              "      <td>-0.105839</td>\n",
              "      <td>-0.136201</td>\n",
              "      <td>1.000000</td>\n",
              "      <td>-0.190059</td>\n",
              "      <td>-0.011419</td>\n",
              "      <td>0.320771</td>\n",
              "      <td>-0.073967</td>\n",
              "      <td>-0.221825</td>\n",
              "      <td>0.009871</td>\n",
              "      <td>-0.007848</td>\n",
              "      <td>-0.006267</td>\n",
              "      <td>0.080154</td>\n",
              "      <td>-0.063194</td>\n",
              "      <td>-0.040558</td>\n",
              "      <td>-0.022229</td>\n",
              "      <td>-0.001187</td>\n",
              "      <td>0.035751</td>\n",
              "      <td>-0.012865</td>\n",
              "      <td>-0.063936</td>\n",
              "      <td>-0.046069</td>\n",
              "      <td>-0.025453</td>\n",
              "      <td>0.047336</td>\n",
              "      <td>-0.001473</td>\n",
              "      <td>-0.005324</td>\n",
              "      <td>0.021842</td>\n",
              "    </tr>\n",
              "    <tr>\n",
              "      <th>marital_status_Divorced/Seperated</th>\n",
              "      <td>-0.129416</td>\n",
              "      <td>-0.119497</td>\n",
              "      <td>-0.023440</td>\n",
              "      <td>0.023440</td>\n",
              "      <td>0.028764</td>\n",
              "      <td>-0.028764</td>\n",
              "      <td>-0.004484</td>\n",
              "      <td>0.004484</td>\n",
              "      <td>0.008025</td>\n",
              "      <td>0.011346</td>\n",
              "      <td>0.047365</td>\n",
              "      <td>0.113023</td>\n",
              "      <td>0.257569</td>\n",
              "      <td>-0.190059</td>\n",
              "      <td>1.000000</td>\n",
              "      <td>-0.005732</td>\n",
              "      <td>-0.285616</td>\n",
              "      <td>-0.222490</td>\n",
              "      <td>-0.111955</td>\n",
              "      <td>-0.001675</td>\n",
              "      <td>-0.032356</td>\n",
              "      <td>-0.005732</td>\n",
              "      <td>-0.018907</td>\n",
              "      <td>-0.002228</td>\n",
              "      <td>0.100044</td>\n",
              "      <td>0.008485</td>\n",
              "      <td>-0.010477</td>\n",
              "      <td>-0.082050</td>\n",
              "      <td>-0.021328</td>\n",
              "      <td>0.040638</td>\n",
              "      <td>-0.015828</td>\n",
              "      <td>0.034857</td>\n",
              "      <td>0.092913</td>\n",
              "      <td>-0.012991</td>\n",
              "      <td>-0.007907</td>\n",
              "      <td>0.014848</td>\n",
              "    </tr>\n",
              "    <tr>\n",
              "      <th>marital_status_Dont know</th>\n",
              "      <td>-0.008536</td>\n",
              "      <td>0.005260</td>\n",
              "      <td>-0.008893</td>\n",
              "      <td>0.008893</td>\n",
              "      <td>-0.005599</td>\n",
              "      <td>0.005599</td>\n",
              "      <td>-0.017464</td>\n",
              "      <td>0.017464</td>\n",
              "      <td>0.001905</td>\n",
              "      <td>0.007574</td>\n",
              "      <td>-0.001664</td>\n",
              "      <td>0.010727</td>\n",
              "      <td>-0.004058</td>\n",
              "      <td>-0.011419</td>\n",
              "      <td>-0.005732</td>\n",
              "      <td>1.000000</td>\n",
              "      <td>-0.016951</td>\n",
              "      <td>-0.013204</td>\n",
              "      <td>-0.006644</td>\n",
              "      <td>-0.000625</td>\n",
              "      <td>-0.003119</td>\n",
              "      <td>-0.000340</td>\n",
              "      <td>0.007618</td>\n",
              "      <td>-0.002615</td>\n",
              "      <td>-0.004193</td>\n",
              "      <td>-0.003467</td>\n",
              "      <td>-0.001354</td>\n",
              "      <td>-0.004637</td>\n",
              "      <td>-0.002385</td>\n",
              "      <td>0.007143</td>\n",
              "      <td>-0.001900</td>\n",
              "      <td>0.005959</td>\n",
              "      <td>-0.003052</td>\n",
              "      <td>-0.004046</td>\n",
              "      <td>0.001055</td>\n",
              "      <td>-0.001014</td>\n",
              "    </tr>\n",
              "    <tr>\n",
              "      <th>marital_status_Married/Living together</th>\n",
              "      <td>0.345770</td>\n",
              "      <td>0.054198</td>\n",
              "      <td>0.234800</td>\n",
              "      <td>-0.234800</td>\n",
              "      <td>-0.157912</td>\n",
              "      <td>0.157912</td>\n",
              "      <td>-0.056086</td>\n",
              "      <td>0.056086</td>\n",
              "      <td>-0.267905</td>\n",
              "      <td>-0.013517</td>\n",
              "      <td>-0.071490</td>\n",
              "      <td>-0.112422</td>\n",
              "      <td>-0.158677</td>\n",
              "      <td>0.320771</td>\n",
              "      <td>-0.285616</td>\n",
              "      <td>-0.016951</td>\n",
              "      <td>1.000000</td>\n",
              "      <td>-0.657917</td>\n",
              "      <td>-0.331057</td>\n",
              "      <td>0.009166</td>\n",
              "      <td>-0.008277</td>\n",
              "      <td>0.006187</td>\n",
              "      <td>0.038615</td>\n",
              "      <td>0.004620</td>\n",
              "      <td>-0.092088</td>\n",
              "      <td>0.009552</td>\n",
              "      <td>0.021401</td>\n",
              "      <td>0.213665</td>\n",
              "      <td>0.068956</td>\n",
              "      <td>-0.021872</td>\n",
              "      <td>-0.057000</td>\n",
              "      <td>0.034058</td>\n",
              "      <td>-0.076327</td>\n",
              "      <td>0.032817</td>\n",
              "      <td>-0.123419</td>\n",
              "      <td>-0.136498</td>\n",
              "    </tr>\n",
              "    <tr>\n",
              "      <th>marital_status_Single/Never Married</th>\n",
              "      <td>-0.182788</td>\n",
              "      <td>-0.296593</td>\n",
              "      <td>-0.268019</td>\n",
              "      <td>0.268019</td>\n",
              "      <td>0.065754</td>\n",
              "      <td>-0.065754</td>\n",
              "      <td>-0.085768</td>\n",
              "      <td>0.085768</td>\n",
              "      <td>0.334782</td>\n",
              "      <td>-0.187301</td>\n",
              "      <td>0.064839</td>\n",
              "      <td>0.073347</td>\n",
              "      <td>0.049226</td>\n",
              "      <td>-0.073967</td>\n",
              "      <td>-0.222490</td>\n",
              "      <td>-0.013204</td>\n",
              "      <td>-0.657917</td>\n",
              "      <td>1.000000</td>\n",
              "      <td>-0.257888</td>\n",
              "      <td>-0.016310</td>\n",
              "      <td>-0.158810</td>\n",
              "      <td>0.001409</td>\n",
              "      <td>0.027126</td>\n",
              "      <td>0.077732</td>\n",
              "      <td>0.079065</td>\n",
              "      <td>0.014298</td>\n",
              "      <td>-0.019312</td>\n",
              "      <td>-0.228865</td>\n",
              "      <td>-0.037515</td>\n",
              "      <td>0.037978</td>\n",
              "      <td>-0.020878</td>\n",
              "      <td>-0.029152</td>\n",
              "      <td>0.027068</td>\n",
              "      <td>-0.032164</td>\n",
              "      <td>0.106721</td>\n",
              "      <td>0.176241</td>\n",
              "    </tr>\n",
              "    <tr>\n",
              "      <th>marital_status_Widowed</th>\n",
              "      <td>-0.153418</td>\n",
              "      <td>0.461496</td>\n",
              "      <td>0.052319</td>\n",
              "      <td>-0.052319</td>\n",
              "      <td>0.123893</td>\n",
              "      <td>-0.123893</td>\n",
              "      <td>0.219947</td>\n",
              "      <td>-0.219947</td>\n",
              "      <td>-0.085592</td>\n",
              "      <td>0.288633</td>\n",
              "      <td>-0.026548</td>\n",
              "      <td>-0.034295</td>\n",
              "      <td>-0.053838</td>\n",
              "      <td>-0.221825</td>\n",
              "      <td>-0.111955</td>\n",
              "      <td>-0.006644</td>\n",
              "      <td>-0.331057</td>\n",
              "      <td>-0.257888</td>\n",
              "      <td>1.000000</td>\n",
              "      <td>0.011414</td>\n",
              "      <td>0.277615</td>\n",
              "      <td>-0.006644</td>\n",
              "      <td>-0.084239</td>\n",
              "      <td>-0.120476</td>\n",
              "      <td>-0.062157</td>\n",
              "      <td>-0.043492</td>\n",
              "      <td>0.004617</td>\n",
              "      <td>0.079072</td>\n",
              "      <td>-0.032964</td>\n",
              "      <td>-0.058733</td>\n",
              "      <td>0.134235</td>\n",
              "      <td>-0.041270</td>\n",
              "      <td>-0.003326</td>\n",
              "      <td>0.008249</td>\n",
              "      <td>0.041393</td>\n",
              "      <td>-0.061473</td>\n",
              "    </tr>\n",
              "    <tr>\n",
              "      <th>education_level_6</th>\n",
              "      <td>0.002008</td>\n",
              "      <td>0.024000</td>\n",
              "      <td>-0.001220</td>\n",
              "      <td>0.001220</td>\n",
              "      <td>0.011596</td>\n",
              "      <td>-0.011596</td>\n",
              "      <td>0.005245</td>\n",
              "      <td>-0.005245</td>\n",
              "      <td>-0.010967</td>\n",
              "      <td>0.000683</td>\n",
              "      <td>-0.003059</td>\n",
              "      <td>0.001763</td>\n",
              "      <td>-0.007458</td>\n",
              "      <td>0.009871</td>\n",
              "      <td>-0.001675</td>\n",
              "      <td>-0.000625</td>\n",
              "      <td>0.009166</td>\n",
              "      <td>-0.016310</td>\n",
              "      <td>0.011414</td>\n",
              "      <td>1.000000</td>\n",
              "      <td>-0.016500</td>\n",
              "      <td>-0.000625</td>\n",
              "      <td>-0.037047</td>\n",
              "      <td>-0.015849</td>\n",
              "      <td>-0.007706</td>\n",
              "      <td>-0.006373</td>\n",
              "      <td>-0.002488</td>\n",
              "      <td>-0.018577</td>\n",
              "      <td>-0.004384</td>\n",
              "      <td>-0.001279</td>\n",
              "      <td>0.008825</td>\n",
              "      <td>0.025335</td>\n",
              "      <td>0.017775</td>\n",
              "      <td>-0.001437</td>\n",
              "      <td>-0.003639</td>\n",
              "      <td>-0.009600</td>\n",
              "    </tr>\n",
              "    <tr>\n",
              "      <th>education_level_No formal education</th>\n",
              "      <td>-0.007311</td>\n",
              "      <td>0.359671</td>\n",
              "      <td>0.090301</td>\n",
              "      <td>-0.090301</td>\n",
              "      <td>0.204348</td>\n",
              "      <td>-0.204348</td>\n",
              "      <td>0.114633</td>\n",
              "      <td>-0.114633</td>\n",
              "      <td>-0.110270</td>\n",
              "      <td>0.123195</td>\n",
              "      <td>-0.028234</td>\n",
              "      <td>-0.051348</td>\n",
              "      <td>-0.068993</td>\n",
              "      <td>-0.007848</td>\n",
              "      <td>-0.032356</td>\n",
              "      <td>-0.003119</td>\n",
              "      <td>-0.008277</td>\n",
              "      <td>-0.158810</td>\n",
              "      <td>0.277615</td>\n",
              "      <td>-0.016500</td>\n",
              "      <td>1.000000</td>\n",
              "      <td>-0.008978</td>\n",
              "      <td>-0.531972</td>\n",
              "      <td>-0.227586</td>\n",
              "      <td>-0.110657</td>\n",
              "      <td>-0.091508</td>\n",
              "      <td>-0.009080</td>\n",
              "      <td>0.092356</td>\n",
              "      <td>-0.059556</td>\n",
              "      <td>-0.088251</td>\n",
              "      <td>0.088691</td>\n",
              "      <td>0.014676</td>\n",
              "      <td>-0.002751</td>\n",
              "      <td>-0.011806</td>\n",
              "      <td>0.003326</td>\n",
              "      <td>-0.057857</td>\n",
              "    </tr>\n",
              "    <tr>\n",
              "      <th>education_level_Other/Dont know/RTA</th>\n",
              "      <td>0.004614</td>\n",
              "      <td>0.009449</td>\n",
              "      <td>-0.008893</td>\n",
              "      <td>0.008893</td>\n",
              "      <td>-0.005599</td>\n",
              "      <td>0.005599</td>\n",
              "      <td>-0.003398</td>\n",
              "      <td>0.003398</td>\n",
              "      <td>0.009777</td>\n",
              "      <td>0.002944</td>\n",
              "      <td>-0.001664</td>\n",
              "      <td>-0.003153</td>\n",
              "      <td>-0.004058</td>\n",
              "      <td>-0.006267</td>\n",
              "      <td>-0.005732</td>\n",
              "      <td>-0.000340</td>\n",
              "      <td>0.006187</td>\n",
              "      <td>0.001409</td>\n",
              "      <td>-0.006644</td>\n",
              "      <td>-0.000625</td>\n",
              "      <td>-0.008978</td>\n",
              "      <td>1.000000</td>\n",
              "      <td>-0.020158</td>\n",
              "      <td>-0.008624</td>\n",
              "      <td>-0.004193</td>\n",
              "      <td>-0.003467</td>\n",
              "      <td>-0.001354</td>\n",
              "      <td>-0.010108</td>\n",
              "      <td>0.033864</td>\n",
              "      <td>0.007143</td>\n",
              "      <td>-0.001900</td>\n",
              "      <td>-0.004876</td>\n",
              "      <td>-0.003052</td>\n",
              "      <td>0.017986</td>\n",
              "      <td>-0.006394</td>\n",
              "      <td>-0.001014</td>\n",
              "    </tr>\n",
              "    <tr>\n",
              "      <th>education_level_Primary education</th>\n",
              "      <td>-0.024692</td>\n",
              "      <td>-0.071641</td>\n",
              "      <td>0.018154</td>\n",
              "      <td>-0.018154</td>\n",
              "      <td>0.009639</td>\n",
              "      <td>-0.009639</td>\n",
              "      <td>-0.019249</td>\n",
              "      <td>0.019249</td>\n",
              "      <td>-0.077299</td>\n",
              "      <td>-0.012332</td>\n",
              "      <td>0.015815</td>\n",
              "      <td>-0.039357</td>\n",
              "      <td>-0.009398</td>\n",
              "      <td>0.080154</td>\n",
              "      <td>-0.018907</td>\n",
              "      <td>0.007618</td>\n",
              "      <td>0.038615</td>\n",
              "      <td>0.027126</td>\n",
              "      <td>-0.084239</td>\n",
              "      <td>-0.037047</td>\n",
              "      <td>-0.531972</td>\n",
              "      <td>-0.020158</td>\n",
              "      <td>1.000000</td>\n",
              "      <td>-0.510985</td>\n",
              "      <td>-0.248451</td>\n",
              "      <td>-0.205456</td>\n",
              "      <td>0.007506</td>\n",
              "      <td>0.009487</td>\n",
              "      <td>-0.113161</td>\n",
              "      <td>-0.101959</td>\n",
              "      <td>-0.035540</td>\n",
              "      <td>0.072011</td>\n",
              "      <td>-0.014983</td>\n",
              "      <td>-0.029298</td>\n",
              "      <td>-0.115503</td>\n",
              "      <td>0.108051</td>\n",
              "    </tr>\n",
              "    <tr>\n",
              "      <th>education_level_Secondary education</th>\n",
              "      <td>0.104180</td>\n",
              "      <td>-0.209862</td>\n",
              "      <td>-0.043799</td>\n",
              "      <td>0.043799</td>\n",
              "      <td>-0.119766</td>\n",
              "      <td>0.119766</td>\n",
              "      <td>-0.058196</td>\n",
              "      <td>0.058196</td>\n",
              "      <td>0.210387</td>\n",
              "      <td>-0.115736</td>\n",
              "      <td>0.004847</td>\n",
              "      <td>0.070816</td>\n",
              "      <td>0.057646</td>\n",
              "      <td>-0.063194</td>\n",
              "      <td>-0.002228</td>\n",
              "      <td>-0.002615</td>\n",
              "      <td>0.004620</td>\n",
              "      <td>0.077732</td>\n",
              "      <td>-0.120476</td>\n",
              "      <td>-0.015849</td>\n",
              "      <td>-0.227586</td>\n",
              "      <td>-0.008624</td>\n",
              "      <td>-0.510985</td>\n",
              "      <td>1.000000</td>\n",
              "      <td>-0.106291</td>\n",
              "      <td>-0.087898</td>\n",
              "      <td>0.011228</td>\n",
              "      <td>-0.024878</td>\n",
              "      <td>0.052762</td>\n",
              "      <td>0.040546</td>\n",
              "      <td>-0.038381</td>\n",
              "      <td>-0.055523</td>\n",
              "      <td>0.019619</td>\n",
              "      <td>0.048310</td>\n",
              "      <td>0.125376</td>\n",
              "      <td>-0.067158</td>\n",
              "    </tr>\n",
              "    <tr>\n",
              "      <th>education_level_Tertiary education</th>\n",
              "      <td>-0.095932</td>\n",
              "      <td>-0.090700</td>\n",
              "      <td>-0.084807</td>\n",
              "      <td>0.084807</td>\n",
              "      <td>-0.099806</td>\n",
              "      <td>0.099806</td>\n",
              "      <td>-0.041081</td>\n",
              "      <td>0.041081</td>\n",
              "      <td>0.010384</td>\n",
              "      <td>-0.002224</td>\n",
              "      <td>0.003654</td>\n",
              "      <td>0.030988</td>\n",
              "      <td>0.051199</td>\n",
              "      <td>-0.040558</td>\n",
              "      <td>0.100044</td>\n",
              "      <td>-0.004193</td>\n",
              "      <td>-0.092088</td>\n",
              "      <td>0.079065</td>\n",
              "      <td>-0.062157</td>\n",
              "      <td>-0.007706</td>\n",
              "      <td>-0.110657</td>\n",
              "      <td>-0.004193</td>\n",
              "      <td>-0.248451</td>\n",
              "      <td>-0.106291</td>\n",
              "      <td>1.000000</td>\n",
              "      <td>-0.042738</td>\n",
              "      <td>-0.011294</td>\n",
              "      <td>-0.099851</td>\n",
              "      <td>0.157665</td>\n",
              "      <td>0.163577</td>\n",
              "      <td>-0.007983</td>\n",
              "      <td>-0.045543</td>\n",
              "      <td>0.019765</td>\n",
              "      <td>-0.005706</td>\n",
              "      <td>0.031751</td>\n",
              "      <td>-0.005885</td>\n",
              "    </tr>\n",
              "    <tr>\n",
              "      <th>education_level_Vocational/Specialised training</th>\n",
              "      <td>-0.023203</td>\n",
              "      <td>-0.037003</td>\n",
              "      <td>-0.050856</td>\n",
              "      <td>0.050856</td>\n",
              "      <td>-0.099015</td>\n",
              "      <td>0.099015</td>\n",
              "      <td>-0.024397</td>\n",
              "      <td>0.024397</td>\n",
              "      <td>-0.004866</td>\n",
              "      <td>0.013608</td>\n",
              "      <td>0.003961</td>\n",
              "      <td>0.032696</td>\n",
              "      <td>-0.005658</td>\n",
              "      <td>-0.022229</td>\n",
              "      <td>0.008485</td>\n",
              "      <td>-0.003467</td>\n",
              "      <td>0.009552</td>\n",
              "      <td>0.014298</td>\n",
              "      <td>-0.043492</td>\n",
              "      <td>-0.006373</td>\n",
              "      <td>-0.091508</td>\n",
              "      <td>-0.003467</td>\n",
              "      <td>-0.205456</td>\n",
              "      <td>-0.087898</td>\n",
              "      <td>-0.042738</td>\n",
              "      <td>1.000000</td>\n",
              "      <td>-0.010588</td>\n",
              "      <td>-0.050250</td>\n",
              "      <td>0.137649</td>\n",
              "      <td>0.190019</td>\n",
              "      <td>-0.005585</td>\n",
              "      <td>-0.062009</td>\n",
              "      <td>-0.020935</td>\n",
              "      <td>0.009099</td>\n",
              "      <td>0.008202</td>\n",
              "      <td>-0.020169</td>\n",
              "    </tr>\n",
              "    <tr>\n",
              "      <th>job_type_Dont Know/Refuse to answer</th>\n",
              "      <td>0.024107</td>\n",
              "      <td>-0.002777</td>\n",
              "      <td>0.022834</td>\n",
              "      <td>-0.022834</td>\n",
              "      <td>-0.001971</td>\n",
              "      <td>0.001971</td>\n",
              "      <td>0.006616</td>\n",
              "      <td>-0.006616</td>\n",
              "      <td>0.000121</td>\n",
              "      <td>0.002648</td>\n",
              "      <td>-0.006622</td>\n",
              "      <td>-0.005533</td>\n",
              "      <td>0.003284</td>\n",
              "      <td>-0.001187</td>\n",
              "      <td>-0.010477</td>\n",
              "      <td>-0.001354</td>\n",
              "      <td>0.021401</td>\n",
              "      <td>-0.019312</td>\n",
              "      <td>0.004617</td>\n",
              "      <td>-0.002488</td>\n",
              "      <td>-0.009080</td>\n",
              "      <td>-0.001354</td>\n",
              "      <td>0.007506</td>\n",
              "      <td>0.011228</td>\n",
              "      <td>-0.011294</td>\n",
              "      <td>-0.010588</td>\n",
              "      <td>1.000000</td>\n",
              "      <td>-0.040215</td>\n",
              "      <td>-0.009491</td>\n",
              "      <td>-0.015901</td>\n",
              "      <td>-0.007559</td>\n",
              "      <td>-0.040955</td>\n",
              "      <td>-0.012143</td>\n",
              "      <td>-0.016097</td>\n",
              "      <td>-0.025441</td>\n",
              "      <td>-0.045142</td>\n",
              "    </tr>\n",
              "    <tr>\n",
              "      <th>job_type_Farming and Fishing</th>\n",
              "      <td>0.188149</td>\n",
              "      <td>0.153382</td>\n",
              "      <td>0.346226</td>\n",
              "      <td>-0.346226</td>\n",
              "      <td>-0.111498</td>\n",
              "      <td>0.111498</td>\n",
              "      <td>0.001094</td>\n",
              "      <td>-0.001094</td>\n",
              "      <td>0.000758</td>\n",
              "      <td>0.025757</td>\n",
              "      <td>-0.039308</td>\n",
              "      <td>-0.066360</td>\n",
              "      <td>-0.069130</td>\n",
              "      <td>0.035751</td>\n",
              "      <td>-0.082050</td>\n",
              "      <td>-0.004637</td>\n",
              "      <td>0.213665</td>\n",
              "      <td>-0.228865</td>\n",
              "      <td>0.079072</td>\n",
              "      <td>-0.018577</td>\n",
              "      <td>0.092356</td>\n",
              "      <td>-0.010108</td>\n",
              "      <td>0.009487</td>\n",
              "      <td>-0.024878</td>\n",
              "      <td>-0.099851</td>\n",
              "      <td>-0.050250</td>\n",
              "      <td>-0.040215</td>\n",
              "      <td>1.000000</td>\n",
              "      <td>-0.070875</td>\n",
              "      <td>-0.118747</td>\n",
              "      <td>-0.056451</td>\n",
              "      <td>-0.305846</td>\n",
              "      <td>-0.090684</td>\n",
              "      <td>-0.120213</td>\n",
              "      <td>-0.189987</td>\n",
              "      <td>-0.337110</td>\n",
              "    </tr>\n",
              "    <tr>\n",
              "      <th>job_type_Formally employed Government</th>\n",
              "      <td>0.002773</td>\n",
              "      <td>-0.005634</td>\n",
              "      <td>-0.047365</td>\n",
              "      <td>0.047365</td>\n",
              "      <td>-0.071634</td>\n",
              "      <td>0.071634</td>\n",
              "      <td>-0.028923</td>\n",
              "      <td>0.028923</td>\n",
              "      <td>-0.020162</td>\n",
              "      <td>0.037505</td>\n",
              "      <td>-0.004203</td>\n",
              "      <td>-0.016074</td>\n",
              "      <td>-0.018897</td>\n",
              "      <td>-0.012865</td>\n",
              "      <td>-0.021328</td>\n",
              "      <td>-0.002385</td>\n",
              "      <td>0.068956</td>\n",
              "      <td>-0.037515</td>\n",
              "      <td>-0.032964</td>\n",
              "      <td>-0.004384</td>\n",
              "      <td>-0.059556</td>\n",
              "      <td>0.033864</td>\n",
              "      <td>-0.113161</td>\n",
              "      <td>0.052762</td>\n",
              "      <td>0.157665</td>\n",
              "      <td>0.137649</td>\n",
              "      <td>-0.009491</td>\n",
              "      <td>-0.070875</td>\n",
              "      <td>1.000000</td>\n",
              "      <td>-0.028024</td>\n",
              "      <td>-0.013323</td>\n",
              "      <td>-0.072180</td>\n",
              "      <td>-0.021402</td>\n",
              "      <td>-0.028370</td>\n",
              "      <td>-0.044837</td>\n",
              "      <td>-0.079558</td>\n",
              "    </tr>\n",
              "    <tr>\n",
              "      <th>job_type_Formally employed Private</th>\n",
              "      <td>-0.071118</td>\n",
              "      <td>-0.061839</td>\n",
              "      <td>-0.068097</td>\n",
              "      <td>0.068097</td>\n",
              "      <td>-0.105631</td>\n",
              "      <td>0.105631</td>\n",
              "      <td>-0.061431</td>\n",
              "      <td>0.061431</td>\n",
              "      <td>-0.034339</td>\n",
              "      <td>0.057942</td>\n",
              "      <td>0.083707</td>\n",
              "      <td>0.023546</td>\n",
              "      <td>-0.007541</td>\n",
              "      <td>-0.063936</td>\n",
              "      <td>0.040638</td>\n",
              "      <td>0.007143</td>\n",
              "      <td>-0.021872</td>\n",
              "      <td>0.037978</td>\n",
              "      <td>-0.058733</td>\n",
              "      <td>-0.001279</td>\n",
              "      <td>-0.088251</td>\n",
              "      <td>0.007143</td>\n",
              "      <td>-0.101959</td>\n",
              "      <td>0.040546</td>\n",
              "      <td>0.163577</td>\n",
              "      <td>0.190019</td>\n",
              "      <td>-0.015901</td>\n",
              "      <td>-0.118747</td>\n",
              "      <td>-0.028024</td>\n",
              "      <td>1.000000</td>\n",
              "      <td>-0.022321</td>\n",
              "      <td>-0.120934</td>\n",
              "      <td>-0.035857</td>\n",
              "      <td>-0.047533</td>\n",
              "      <td>-0.075122</td>\n",
              "      <td>-0.133296</td>\n",
              "    </tr>\n",
              "    <tr>\n",
              "      <th>job_type_Government Dependent</th>\n",
              "      <td>-0.045911</td>\n",
              "      <td>0.171570</td>\n",
              "      <td>0.001962</td>\n",
              "      <td>-0.001962</td>\n",
              "      <td>0.058474</td>\n",
              "      <td>-0.058474</td>\n",
              "      <td>0.023854</td>\n",
              "      <td>-0.023854</td>\n",
              "      <td>-0.017664</td>\n",
              "      <td>0.058844</td>\n",
              "      <td>-0.009295</td>\n",
              "      <td>-0.005057</td>\n",
              "      <td>-0.008750</td>\n",
              "      <td>-0.046069</td>\n",
              "      <td>-0.015828</td>\n",
              "      <td>-0.001900</td>\n",
              "      <td>-0.057000</td>\n",
              "      <td>-0.020878</td>\n",
              "      <td>0.134235</td>\n",
              "      <td>0.008825</td>\n",
              "      <td>0.088691</td>\n",
              "      <td>-0.001900</td>\n",
              "      <td>-0.035540</td>\n",
              "      <td>-0.038381</td>\n",
              "      <td>-0.007983</td>\n",
              "      <td>-0.005585</td>\n",
              "      <td>-0.007559</td>\n",
              "      <td>-0.056451</td>\n",
              "      <td>-0.013323</td>\n",
              "      <td>-0.022321</td>\n",
              "      <td>1.000000</td>\n",
              "      <td>-0.057491</td>\n",
              "      <td>-0.017046</td>\n",
              "      <td>-0.022597</td>\n",
              "      <td>-0.035712</td>\n",
              "      <td>-0.063368</td>\n",
              "    </tr>\n",
              "    <tr>\n",
              "      <th>job_type_Informally employed</th>\n",
              "      <td>0.013800</td>\n",
              "      <td>-0.088909</td>\n",
              "      <td>0.070894</td>\n",
              "      <td>-0.070894</td>\n",
              "      <td>0.008630</td>\n",
              "      <td>-0.008630</td>\n",
              "      <td>-0.052741</td>\n",
              "      <td>0.052741</td>\n",
              "      <td>0.028517</td>\n",
              "      <td>0.016077</td>\n",
              "      <td>0.037805</td>\n",
              "      <td>-0.004000</td>\n",
              "      <td>-0.036620</td>\n",
              "      <td>-0.025453</td>\n",
              "      <td>0.034857</td>\n",
              "      <td>0.005959</td>\n",
              "      <td>0.034058</td>\n",
              "      <td>-0.029152</td>\n",
              "      <td>-0.041270</td>\n",
              "      <td>0.025335</td>\n",
              "      <td>0.014676</td>\n",
              "      <td>-0.004876</td>\n",
              "      <td>0.072011</td>\n",
              "      <td>-0.055523</td>\n",
              "      <td>-0.045543</td>\n",
              "      <td>-0.062009</td>\n",
              "      <td>-0.040955</td>\n",
              "      <td>-0.305846</td>\n",
              "      <td>-0.072180</td>\n",
              "      <td>-0.120934</td>\n",
              "      <td>-0.057491</td>\n",
              "      <td>1.000000</td>\n",
              "      <td>-0.092355</td>\n",
              "      <td>-0.122427</td>\n",
              "      <td>-0.193486</td>\n",
              "      <td>-0.343319</td>\n",
              "    </tr>\n",
              "    <tr>\n",
              "      <th>job_type_No Income</th>\n",
              "      <td>-0.065799</td>\n",
              "      <td>-0.060762</td>\n",
              "      <td>-0.045217</td>\n",
              "      <td>0.045217</td>\n",
              "      <td>0.104005</td>\n",
              "      <td>-0.104005</td>\n",
              "      <td>0.073371</td>\n",
              "      <td>-0.073371</td>\n",
              "      <td>-0.017492</td>\n",
              "      <td>-0.110274</td>\n",
              "      <td>0.005708</td>\n",
              "      <td>0.044800</td>\n",
              "      <td>0.147220</td>\n",
              "      <td>0.047336</td>\n",
              "      <td>0.092913</td>\n",
              "      <td>-0.003052</td>\n",
              "      <td>-0.076327</td>\n",
              "      <td>0.027068</td>\n",
              "      <td>-0.003326</td>\n",
              "      <td>0.017775</td>\n",
              "      <td>-0.002751</td>\n",
              "      <td>-0.003052</td>\n",
              "      <td>-0.014983</td>\n",
              "      <td>0.019619</td>\n",
              "      <td>0.019765</td>\n",
              "      <td>-0.020935</td>\n",
              "      <td>-0.012143</td>\n",
              "      <td>-0.090684</td>\n",
              "      <td>-0.021402</td>\n",
              "      <td>-0.035857</td>\n",
              "      <td>-0.017046</td>\n",
              "      <td>-0.092355</td>\n",
              "      <td>1.000000</td>\n",
              "      <td>-0.036300</td>\n",
              "      <td>-0.057369</td>\n",
              "      <td>-0.101795</td>\n",
              "    </tr>\n",
              "    <tr>\n",
              "      <th>job_type_Other Income</th>\n",
              "      <td>0.062540</td>\n",
              "      <td>-0.014441</td>\n",
              "      <td>-0.011225</td>\n",
              "      <td>0.011225</td>\n",
              "      <td>0.006779</td>\n",
              "      <td>-0.006779</td>\n",
              "      <td>0.011221</td>\n",
              "      <td>-0.011221</td>\n",
              "      <td>-0.003700</td>\n",
              "      <td>-0.012715</td>\n",
              "      <td>0.007436</td>\n",
              "      <td>0.022416</td>\n",
              "      <td>0.017559</td>\n",
              "      <td>-0.001473</td>\n",
              "      <td>-0.012991</td>\n",
              "      <td>-0.004046</td>\n",
              "      <td>0.032817</td>\n",
              "      <td>-0.032164</td>\n",
              "      <td>0.008249</td>\n",
              "      <td>-0.001437</td>\n",
              "      <td>-0.011806</td>\n",
              "      <td>0.017986</td>\n",
              "      <td>-0.029298</td>\n",
              "      <td>0.048310</td>\n",
              "      <td>-0.005706</td>\n",
              "      <td>0.009099</td>\n",
              "      <td>-0.016097</td>\n",
              "      <td>-0.120213</td>\n",
              "      <td>-0.028370</td>\n",
              "      <td>-0.047533</td>\n",
              "      <td>-0.022597</td>\n",
              "      <td>-0.122427</td>\n",
              "      <td>-0.036300</td>\n",
              "      <td>1.000000</td>\n",
              "      <td>-0.076050</td>\n",
              "      <td>-0.134941</td>\n",
              "    </tr>\n",
              "    <tr>\n",
              "      <th>job_type_Remittance Dependent</th>\n",
              "      <td>0.008988</td>\n",
              "      <td>-0.057750</td>\n",
              "      <td>-0.054073</td>\n",
              "      <td>0.054073</td>\n",
              "      <td>0.083016</td>\n",
              "      <td>-0.083016</td>\n",
              "      <td>0.120213</td>\n",
              "      <td>-0.120213</td>\n",
              "      <td>0.196901</td>\n",
              "      <td>-0.152801</td>\n",
              "      <td>-0.000592</td>\n",
              "      <td>0.092887</td>\n",
              "      <td>0.025841</td>\n",
              "      <td>-0.005324</td>\n",
              "      <td>-0.007907</td>\n",
              "      <td>0.001055</td>\n",
              "      <td>-0.123419</td>\n",
              "      <td>0.106721</td>\n",
              "      <td>0.041393</td>\n",
              "      <td>-0.003639</td>\n",
              "      <td>0.003326</td>\n",
              "      <td>-0.006394</td>\n",
              "      <td>-0.115503</td>\n",
              "      <td>0.125376</td>\n",
              "      <td>0.031751</td>\n",
              "      <td>0.008202</td>\n",
              "      <td>-0.025441</td>\n",
              "      <td>-0.189987</td>\n",
              "      <td>-0.044837</td>\n",
              "      <td>-0.075122</td>\n",
              "      <td>-0.035712</td>\n",
              "      <td>-0.193486</td>\n",
              "      <td>-0.057369</td>\n",
              "      <td>-0.076050</td>\n",
              "      <td>1.000000</td>\n",
              "      <td>-0.213264</td>\n",
              "    </tr>\n",
              "    <tr>\n",
              "      <th>job_type_Self employed</th>\n",
              "      <td>-0.163918</td>\n",
              "      <td>0.000237</td>\n",
              "      <td>-0.294581</td>\n",
              "      <td>0.294581</td>\n",
              "      <td>0.055152</td>\n",
              "      <td>-0.055152</td>\n",
              "      <td>-0.035647</td>\n",
              "      <td>0.035647</td>\n",
              "      <td>-0.130721</td>\n",
              "      <td>0.060639</td>\n",
              "      <td>-0.038482</td>\n",
              "      <td>-0.028894</td>\n",
              "      <td>0.031259</td>\n",
              "      <td>0.021842</td>\n",
              "      <td>0.014848</td>\n",
              "      <td>-0.001014</td>\n",
              "      <td>-0.136498</td>\n",
              "      <td>0.176241</td>\n",
              "      <td>-0.061473</td>\n",
              "      <td>-0.009600</td>\n",
              "      <td>-0.057857</td>\n",
              "      <td>-0.001014</td>\n",
              "      <td>0.108051</td>\n",
              "      <td>-0.067158</td>\n",
              "      <td>-0.005885</td>\n",
              "      <td>-0.020169</td>\n",
              "      <td>-0.045142</td>\n",
              "      <td>-0.337110</td>\n",
              "      <td>-0.079558</td>\n",
              "      <td>-0.133296</td>\n",
              "      <td>-0.063368</td>\n",
              "      <td>-0.343319</td>\n",
              "      <td>-0.101795</td>\n",
              "      <td>-0.134941</td>\n",
              "      <td>-0.213264</td>\n",
              "      <td>1.000000</td>\n",
              "    </tr>\n",
              "  </tbody>\n",
              "</table>\n",
              "</div>"
            ],
            "text/plain": [
              "                                                 household_size  ...  job_type_Self employed\n",
              "household_size                                         1.000000  ...               -0.163918\n",
              "age_of_respondent                                     -0.119212  ...                0.000237\n",
              "location_type_Rural                                    0.274017  ...               -0.294581\n",
              "location_type_Urban                                   -0.274017  ...                0.294581\n",
              "cellphone_access_No                                   -0.098726  ...                0.055152\n",
              "cellphone_access_Yes                                   0.098726  ...               -0.055152\n",
              "gender_of_respondent_Female                           -0.011329  ...               -0.035647\n",
              "gender_of_respondent_Male                              0.011329  ...                0.035647\n",
              "relationship_with_head_Child                           0.204270  ...               -0.130721\n",
              "relationship_with_head_Head of Household              -0.243698  ...                0.060639\n",
              "relationship_with_head_Other non-relatives             0.021011  ...               -0.038482\n",
              "relationship_with_head_Other relative                  0.013798  ...               -0.028894\n",
              "relationship_with_head_Parent                          0.042370  ...                0.031259\n",
              "relationship_with_head_Spouse                          0.108263  ...                0.021842\n",
              "marital_status_Divorced/Seperated                     -0.129416  ...                0.014848\n",
              "marital_status_Dont know                              -0.008536  ...               -0.001014\n",
              "marital_status_Married/Living together                 0.345770  ...               -0.136498\n",
              "marital_status_Single/Never Married                   -0.182788  ...                0.176241\n",
              "marital_status_Widowed                                -0.153418  ...               -0.061473\n",
              "education_level_6                                      0.002008  ...               -0.009600\n",
              "education_level_No formal education                   -0.007311  ...               -0.057857\n",
              "education_level_Other/Dont know/RTA                    0.004614  ...               -0.001014\n",
              "education_level_Primary education                     -0.024692  ...                0.108051\n",
              "education_level_Secondary education                    0.104180  ...               -0.067158\n",
              "education_level_Tertiary education                    -0.095932  ...               -0.005885\n",
              "education_level_Vocational/Specialised training       -0.023203  ...               -0.020169\n",
              "job_type_Dont Know/Refuse to answer                    0.024107  ...               -0.045142\n",
              "job_type_Farming and Fishing                           0.188149  ...               -0.337110\n",
              "job_type_Formally employed Government                  0.002773  ...               -0.079558\n",
              "job_type_Formally employed Private                    -0.071118  ...               -0.133296\n",
              "job_type_Government Dependent                         -0.045911  ...               -0.063368\n",
              "job_type_Informally employed                           0.013800  ...               -0.343319\n",
              "job_type_No Income                                    -0.065799  ...               -0.101795\n",
              "job_type_Other Income                                  0.062540  ...               -0.134941\n",
              "job_type_Remittance Dependent                          0.008988  ...               -0.213264\n",
              "job_type_Self employed                                -0.163918  ...                1.000000\n",
              "\n",
              "[36 rows x 36 columns]"
            ]
          },
          "metadata": {
            "tags": []
          },
          "execution_count": 60
        }
      ]
    },
    {
      "cell_type": "code",
      "metadata": {
        "id": "AHxvHUoloC8i",
        "colab_type": "code",
        "outputId": "69af210b-5ccc-4789-bff2-4314d474ea5c",
        "colab": {
          "base_uri": "https://localhost:8080/",
          "height": 493
        }
      },
      "source": [
        "#the heat map below a majority of the variables display very weak relationship with each other.\n",
        "#but we can try to use multiple regression and see its performance\n",
        "sns.heatmap(X.corr())"
      ],
      "execution_count": 61,
      "outputs": [
        {
          "output_type": "execute_result",
          "data": {
            "text/plain": [
              "<matplotlib.axes._subplots.AxesSubplot at 0x7f49e1731358>"
            ]
          },
          "metadata": {
            "tags": []
          },
          "execution_count": 61
        },
        {
          "output_type": "display_data",
          "data": {
            "image/png": "[encoded data removed]",
            "text/plain": [
              "<Figure size 432x288 with 2 Axes>"
            ]
          },
          "metadata": {
            "tags": []
          }
        }
      ]
    },
    {
      "cell_type": "code",
      "metadata": {
        "id": "C0RMADsZoJtm",
        "colab_type": "code",
        "colab": {}
      },
      "source": [
        "#We then create and train the model by fitting the linear regression model on the training data.\n",
        "lm = LinearRegression()\n",
        "results = lm.fit(X_train,y_train)"
      ],
      "execution_count": 0,
      "outputs": []
    },
    {
      "cell_type": "code",
      "metadata": {
        "id": "I4UQ20ypofS2",
        "colab_type": "code",
        "colab": {}
      },
      "source": [
        "#Grabbing predictions off the test set and see how well it did\n",
        "predictions = lm.predict(X_test)"
      ],
      "execution_count": 0,
      "outputs": []
    },
    {
      "cell_type": "code",
      "metadata": {
        "id": "yOP9mQnFo29g",
        "colab_type": "code",
        "outputId": "b84660e6-8161-4f12-a4e7-6d62799da0c3",
        "colab": {
          "base_uri": "https://localhost:8080/",
          "height": 1000
        }
      },
      "source": [
        "\n",
        "X2 = sm.add_constant(X.values)  \n",
        "model = sm.OLS(y, X2).fit()  \n",
        "print(model.summary())"
      ],
      "execution_count": 64,
      "outputs": [
        {
          "output_type": "stream",
          "text": [
            "                            OLS Regression Results                            \n",
            "==============================================================================\n",
            "Dep. Variable:                      y   R-squared:                       0.249\n",
            "Model:                            OLS   Adj. R-squared:                  0.248\n",
            "Method:                 Least Squares   F-statistic:                     268.5\n",
            "Date:                Mon, 19 Aug 2019   Prob (F-statistic):               0.00\n",
            "Time:                        12:21:00   Log-Likelihood:                -5159.0\n",
            "No. Observations:               23524   AIC:                         1.038e+04\n",
            "Df Residuals:                   23494   BIC:                         1.062e+04\n",
            "Df Model:                          29                                         \n",
            "Covariance Type:            nonrobust                                         \n",
            "==============================================================================\n",
            "                 coef    std err          t      P>|t|      [0.025      0.975]\n",
            "------------------------------------------------------------------------------\n",
            "const          0.0831      0.009      8.862      0.000       0.065       0.101\n",
            "x1             0.0005      0.001      0.497      0.619      -0.002       0.003\n",
            "x2             0.0013      0.000      8.319      0.000       0.001       0.002\n",
            "x3             0.0199      0.005      3.790      0.000       0.010       0.030\n",
            "x4             0.0632      0.005     12.150      0.000       0.053       0.073\n",
            "x5            -0.0003      0.005     -0.055      0.956      -0.011       0.010\n",
            "x6             0.0834      0.005     16.132      0.000       0.073       0.094\n",
            "x7             0.0247      0.005      4.697      0.000       0.014       0.035\n",
            "x8             0.0584      0.005     10.632      0.000       0.048       0.069\n",
            "x9             0.0149      0.008      1.972      0.049    8.86e-05       0.030\n",
            "x10            0.0664      0.006     10.978      0.000       0.055       0.078\n",
            "x11           -0.0180      0.019     -0.957      0.338      -0.055       0.019\n",
            "x12           -0.0066      0.011     -0.616      0.538      -0.028       0.014\n",
            "x13           -0.0156      0.009     -1.702      0.089      -0.034       0.002\n",
            "x14            0.0420      0.007      6.196      0.000       0.029       0.055\n",
            "x15           -0.0245      0.021     -1.176      0.239      -0.065       0.016\n",
            "x16            0.0944      0.087      1.089      0.276      -0.076       0.264\n",
            "x17            0.0329      0.020      1.612      0.107      -0.007       0.073\n",
            "x18           -0.0204      0.020     -1.004      0.315      -0.060       0.019\n",
            "x19            0.0007      0.021      0.032      0.974      -0.040       0.042\n",
            "x20           -0.0901      0.052     -1.721      0.085      -0.193       0.013\n",
            "x21           -0.2272      0.017    -13.090      0.000      -0.261      -0.193\n",
            "x22            0.2973      0.093      3.213      0.001       0.116       0.479\n",
            "x23           -0.1809      0.017    -10.681      0.000      -0.214      -0.148\n",
            "x24           -0.0471      0.017     -2.731      0.006      -0.081      -0.013\n",
            "x25            0.1580      0.018      8.558      0.000       0.122       0.194\n",
            "x26            0.1731      0.019      9.049      0.000       0.136       0.211\n",
            "x27           -0.0709      0.025     -2.893      0.004      -0.119      -0.023\n",
            "x28           -0.0650      0.006    -10.979      0.000      -0.077      -0.053\n",
            "x29            0.3438      0.015     23.186      0.000       0.315       0.373\n",
            "x30            0.2014      0.010     20.879      0.000       0.182       0.220\n",
            "x31            0.0399      0.018      2.203      0.028       0.004       0.075\n",
            "x32           -0.0896      0.006    -15.915      0.000      -0.101      -0.079\n",
            "x33           -0.1109      0.012     -9.347      0.000      -0.134      -0.088\n",
            "x34           -0.0230      0.009     -2.483      0.013      -0.041      -0.005\n",
            "x35           -0.0860      0.007    -12.315      0.000      -0.100      -0.072\n",
            "x36           -0.0566      0.006    -10.164      0.000      -0.068      -0.046\n",
            "==============================================================================\n",
            "Omnibus:                     6964.978   Durbin-Watson:                   1.972\n",
            "Prob(Omnibus):                  0.000   Jarque-Bera (JB):            17804.202\n",
            "Skew:                           1.631   Prob(JB):                         0.00\n",
            "Kurtosis:                       5.744   Cond. No.                     2.12e+16\n",
            "==============================================================================\n",
            "\n",
            "Warnings:\n",
            "[1] Standard Errors assume that the covariance matrix of the errors is correctly specified.\n",
            "[2] The smallest eigenvalue is 9.35e-26. This might indicate that there are\n",
            "strong multicollinearity problems or that the design matrix is singular.\n"
          ],
          "name": "stdout"
        }
      ]
    },
    {
      "cell_type": "code",
      "metadata": {
        "id": "xaA0QHxI182w",
        "colab_type": "code",
        "colab": {}
      },
      "source": [
        "#this model is not appropriate for modelling this kind of data. having assumed that there exists a linear relationship the relationship is too weak and absent in most variables \n",
        "#therefore yields a very poor model looking at the rsquared and adjusted -squared "
      ],
      "execution_count": 0,
      "outputs": []
    },
    {
      "cell_type": "markdown",
      "metadata": {
        "id": "BxE1lynYnKps",
        "colab_type": "text"
      },
      "source": [
        "**Principal Component Analysis**"
      ]
    },
    {
      "cell_type": "code",
      "metadata": {
        "id": "g8-C_Se3dC5U",
        "colab_type": "code",
        "colab": {}
      },
      "source": [
        "#we can also try pca to do some reduction on out dataset\n",
        "from sklearn.decomposition import PCA\n",
        "\n",
        "pca = PCA(0.95)\n",
        "X_train = pca.fit_transform(X_train)\n",
        "X_test = pca.transform(X_test)"
      ],
      "execution_count": 0,
      "outputs": []
    },
    {
      "cell_type": "code",
      "metadata": {
        "id": "hbP4a9AWdPFb",
        "colab_type": "code",
        "colab": {}
      },
      "source": [
        "# Using  Principal Component we set the threshhold of 95%\n",
        "# Let's first try to use  principal component to reduce our dataset by picking the items with the largest variance, execute the following code:\n",
        "# \n",
        "from sklearn.decomposition import PCA\n",
        "\n",
        "pca = PCA(0.95)\n",
        "X_train = pca.fit_transform(X_train)\n",
        "X_test = pca.transform(X_test)"
      ],
      "execution_count": 0,
      "outputs": []
    },
    {
      "cell_type": "code",
      "metadata": {
        "id": "8HSrb_9Sdfxz",
        "colab_type": "code",
        "colab": {
          "base_uri": "https://localhost:8080/",
          "height": 71
        },
        "outputId": "5c8ad1fa-56d8-4c55-f543-e78c42ee363a"
      },
      "source": [
        "#Training and Making Predictions\n",
        "# In this case we'll use random forest classification for making the predictions.\n",
        "# \n",
        "from sklearn.ensemble import RandomForestClassifier\n",
        "\n",
        "classifier = RandomForestClassifier(max_depth=2, random_state=0)\n",
        "classifier.fit(X_train, y_train)\n",
        "\n",
        "# Predicting the Test set results\n",
        "y_pred = classifier.predict(X_test)"
      ],
      "execution_count": 68,
      "outputs": [
        {
          "output_type": "stream",
          "text": [
            "/usr/local/lib/python3.6/dist-packages/sklearn/ensemble/forest.py:245: FutureWarning: The default value of n_estimators will change from 10 in version 0.20 to 100 in 0.22.\n",
            "  \"10 in version 0.20 to 100 in 0.22.\", FutureWarning)\n"
          ],
          "name": "stderr"
        }
      ]
    },
    {
      "cell_type": "code",
      "metadata": {
        "id": "alPiVph2drZo",
        "colab_type": "code",
        "colab": {
          "base_uri": "https://localhost:8080/",
          "height": 68
        },
        "outputId": "399db76e-1dea-4b04-90cc-856e8aff68a3"
      },
      "source": [
        "#Performance Evaluation\n",
        "# \n",
        "from sklearn.metrics import confusion_matrix\n",
        "from sklearn.metrics import accuracy_score\n",
        "\n",
        "cm = confusion_matrix(y_test, y_pred)\n",
        "print(cm)\n",
        "print(accuracy_score(y_test, y_pred))\n"
      ],
      "execution_count": 69,
      "outputs": [
        {
          "output_type": "stream",
          "text": [
            "[[3983   23]\n",
            " [ 592  107]]\n",
            "0.869287991498406\n"
          ],
          "name": "stdout"
        }
      ]
    },
    {
      "cell_type": "code",
      "metadata": {
        "id": "NR0SsvSBdfts",
        "colab_type": "code",
        "colab": {}
      },
      "source": [
        "#from the above methods we attained an accuracy of 86%\n",
        "#much as our data was sufficient we cant give a conclusion because looking at the confusion matrix we cannot make any reasonable conclusion.\n",
        "#this then leads us to try and use a different method in this case Logistic Regression as the results we expect are binary in nature"
      ],
      "execution_count": 0,
      "outputs": []
    },
    {
      "cell_type": "code",
      "metadata": {
        "id": "7Tke7ezP-oDu",
        "colab_type": "code",
        "colab": {}
      },
      "source": [
        ""
      ],
      "execution_count": 0,
      "outputs": []
    },
    {
      "cell_type": "markdown",
      "metadata": {
        "id": "5zVvLU9L-pnQ",
        "colab_type": "text"
      },
      "source": [
        "**Challenging our model using Logistic regression**"
      ]
    },
    {
      "cell_type": "code",
      "metadata": {
        "id": "EnNw4YMO1M_j",
        "colab_type": "code",
        "colab": {}
      },
      "source": [
        "#we want to use logistic regression to check whether we can get better results.\n",
        "#following the assumptions of logistic regression that are known to us namely\n",
        "#Binary logistic regression requires the dependent variable to be binary.(Our dataset meets this condition)\n",
        "#For a binary regression, the factor level 1 of the dependent variable should represent the desired outcome.(we already did the conversions to dummy variable)\n",
        "#Only the meaningful variables should be included.this is done by th use of PCA\n",
        "#The independent variables should be independent of each other. That is, the model should have little or no multicollinearity.\n",
        "#this is evident in our correlation table above\n",
        "#Logistic regression requires quite large sample sizes.(our data is sufficient as it has volume)"
      ],
      "execution_count": 0,
      "outputs": []
    },
    {
      "cell_type": "code",
      "metadata": {
        "id": "O_M1xiMI2KGw",
        "colab_type": "code",
        "colab": {
          "base_uri": "https://localhost:8080/",
          "height": 156
        },
        "outputId": "70f8892f-8162-4428-e7ad-3e6ad5ab96ce"
      },
      "source": [
        "#we therefore proceed to import our logistic regression\n",
        "#we then fit our logistic regression model\n",
        "from sklearn.linear_model import LogisticRegression\n",
        "from sklearn import metrics\n",
        "X_train, X_test, y_train, y_test = train_test_split(X, y, test_size=0.3, random_state=0)\n",
        "logreg = LogisticRegression()\n",
        "logreg.fit(X_train, y_train)"
      ],
      "execution_count": 72,
      "outputs": [
        {
          "output_type": "stream",
          "text": [
            "/usr/local/lib/python3.6/dist-packages/sklearn/linear_model/logistic.py:432: FutureWarning: Default solver will be changed to 'lbfgs' in 0.22. Specify a solver to silence this warning.\n",
            "  FutureWarning)\n"
          ],
          "name": "stderr"
        },
        {
          "output_type": "execute_result",
          "data": {
            "text/plain": [
              "LogisticRegression(C=1.0, class_weight=None, dual=False, fit_intercept=True,\n",
              "                   intercept_scaling=1, l1_ratio=None, max_iter=100,\n",
              "                   multi_class='warn', n_jobs=None, penalty='l2',\n",
              "                   random_state=None, solver='warn', tol=0.0001, verbose=0,\n",
              "                   warm_start=False)"
            ]
          },
          "metadata": {
            "tags": []
          },
          "execution_count": 72
        }
      ]
    },
    {
      "cell_type": "code",
      "metadata": {
        "id": "ohiVlNPD30Lz",
        "colab_type": "code",
        "colab": {
          "base_uri": "https://localhost:8080/",
          "height": 34
        },
        "outputId": "41fc782a-ce35-4de5-db11-f79492c4fd40"
      },
      "source": [
        "#Predicting the test set results and calculating the accuracy\n",
        "y_pred = logreg.predict(X_test)\n",
        "print('Accuracy of logistic regression classifier on test set: {:.2f}'.format(logreg.score(X_test, y_test)))"
      ],
      "execution_count": 73,
      "outputs": [
        {
          "output_type": "stream",
          "text": [
            "Accuracy of logistic regression classifier on test set: 0.88\n"
          ],
          "name": "stdout"
        }
      ]
    },
    {
      "cell_type": "code",
      "metadata": {
        "id": "cSHadFcc4WHU",
        "colab_type": "code",
        "colab": {
          "base_uri": "https://localhost:8080/",
          "height": 51
        },
        "outputId": "d85b765b-6c8f-4fce-bca1-257d9bb82f1f"
      },
      "source": [
        "#we can import confusion matrix\n",
        "from sklearn.metrics import confusion_matrix\n",
        "confusion_matrix = confusion_matrix(y_test, y_pred)\n",
        "print(confusion_matrix)"
      ],
      "execution_count": 74,
      "outputs": [
        {
          "output_type": "stream",
          "text": [
            "[[5890  146]\n",
            " [ 686  336]]\n"
          ],
          "name": "stdout"
        }
      ]
    },
    {
      "cell_type": "code",
      "metadata": {
        "id": "EbYNfyzJ4idz",
        "colab_type": "code",
        "colab": {
          "base_uri": "https://localhost:8080/",
          "height": 170
        },
        "outputId": "0cdf893a-1c55-4ba1-b261-38756439f2ed"
      },
      "source": [
        "#we evaluate our model\n",
        "from sklearn.metrics import classification_report\n",
        "print(classification_report(y_test, y_pred))"
      ],
      "execution_count": 75,
      "outputs": [
        {
          "output_type": "stream",
          "text": [
            "              precision    recall  f1-score   support\n",
            "\n",
            "           0       0.90      0.98      0.93      6036\n",
            "           1       0.70      0.33      0.45      1022\n",
            "\n",
            "    accuracy                           0.88      7058\n",
            "   macro avg       0.80      0.65      0.69      7058\n",
            "weighted avg       0.87      0.88      0.86      7058\n",
            "\n"
          ],
          "name": "stdout"
        }
      ]
    },
    {
      "cell_type": "code",
      "metadata": {
        "id": "puA7I8HY495p",
        "colab_type": "code",
        "colab": {}
      },
      "source": [
        "#Interpretation: Of the entire test set, 86% of the respondents were likely to have accounts."
      ],
      "execution_count": 0,
      "outputs": []
    }
  ]
}